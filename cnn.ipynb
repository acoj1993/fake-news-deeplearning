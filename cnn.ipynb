{
  "nbformat": 4,
  "nbformat_minor": 0,
  "metadata": {
    "colab": {
      "name": "Untitled2.ipynb",
      "provenance": [],
      "toc_visible": true,
      "include_colab_link": true
    },
    "kernelspec": {
      "name": "python3",
      "display_name": "Python 3"
    },
    "accelerator": "GPU"
  },
  "cells": [
    {
      "cell_type": "markdown",
      "metadata": {
        "id": "view-in-github",
        "colab_type": "text"
      },
      "source": [
        "<a href=\"https://colab.research.google.com/github/acoj1993/fake-news-deeplearning/blob/master/cnn.ipynb\" target=\"_parent\"><img src=\"https://colab.research.google.com/assets/colab-badge.svg\" alt=\"Open In Colab\"/></a>"
      ]
    },
    {
      "cell_type": "markdown",
      "metadata": {
        "id": "IuYSImTRCSCQ",
        "colab_type": "text"
      },
      "source": [
        "# **Convolutional Neural Network for detecting fake news**\n",
        "## **The neural network constructed and trained in this notebook is based on the work done in [1]. The network proposed in this paper is completely redisgned, however the core idea behind is preserved. For more details please refer to README.md of this repository.**\n",
        "\n",
        "## The training and testing dataset used in this notebook is the TI-CNN dataset.\n",
        "\n",
        "\n",
        "\n",
        "\n",
        "---\n",
        "\n",
        "\n",
        "\n",
        "*   The variable **MAX_NO_OF_WORDS** is used (as instructed in [1]) to define \n",
        "the input size of the neural network. The value 1606 is calculated in [1] as an optimal value for the text (also called body) feature of the dataset.\n",
        "*   **EMBEDDING_DIMENSION** obviously defines the embedding dimnesion and is set to 100. The words are embedded using word2vec Glove model."
      ]
    },
    {
      "cell_type": "code",
      "metadata": {
        "id": "Y137M2z5TNUm",
        "colab_type": "code",
        "outputId": "68f83407-b072-4da6-9a5b-c304d30c100f",
        "colab": {
          "base_uri": "https://localhost:8080/",
          "height": 81
        }
      },
      "source": [
        "import keras\n",
        "import numpy as np\n",
        "\n",
        "MAX_NO_OF_WORDS = 1606\n",
        "EMBEDDING_DIMENSION = 100"
      ],
      "execution_count": 1,
      "outputs": [
        {
          "output_type": "stream",
          "text": [
            "Using TensorFlow backend.\n"
          ],
          "name": "stderr"
        },
        {
          "output_type": "display_data",
          "data": {
            "text/html": [
              "<p style=\"color: red;\">\n",
              "The default version of TensorFlow in Colab will soon switch to TensorFlow 2.x.<br>\n",
              "We recommend you <a href=\"https://www.tensorflow.org/guide/migrate\" target=\"_blank\">upgrade</a> now \n",
              "or ensure your notebook will continue to use TensorFlow 1.x via the <code>%tensorflow_version 1.x</code> magic:\n",
              "<a href=\"https://colab.research.google.com/notebooks/tensorflow_version.ipynb\" target=\"_blank\">more info</a>.</p>\n"
            ],
            "text/plain": [
              "<IPython.core.display.HTML object>"
            ]
          },
          "metadata": {
            "tags": []
          }
        }
      ]
    },
    {
      "cell_type": "code",
      "metadata": {
        "id": "Zq1I5AKiU74P",
        "colab_type": "code",
        "outputId": "492df820-178a-4c9a-d48a-ed455d94efad",
        "colab": {
          "base_uri": "https://localhost:8080/",
          "height": 34
        }
      },
      "source": [
        "from google.colab import drive\n",
        "drive.mount('/content/drive')"
      ],
      "execution_count": 2,
      "outputs": [
        {
          "output_type": "stream",
          "text": [
            "Drive already mounted at /content/drive; to attempt to forcibly remount, call drive.mount(\"/content/drive\", force_remount=True).\n"
          ],
          "name": "stdout"
        }
      ]
    },
    {
      "cell_type": "code",
      "metadata": {
        "id": "K9sn-BWIUvH0",
        "colab_type": "code",
        "outputId": "d3b987e4-aef3-4eca-8bd5-63a2549ec10a",
        "colab": {
          "base_uri": "https://localhost:8080/",
          "height": 34
        }
      },
      "source": [
        "import pandas as pd\n",
        "\n",
        "data = pd.read_csv('/content/drive/My Drive/all_data.csv')\n",
        "data.title[1]"
      ],
      "execution_count": 3,
      "outputs": [
        {
          "output_type": "execute_result",
          "data": {
            "text/plain": [
              "'Trump Foundation Tells New York It Has Stopped Soliciting After State Order'"
            ]
          },
          "metadata": {
            "tags": []
          },
          "execution_count": 3
        }
      ]
    },
    {
      "cell_type": "code",
      "metadata": {
        "id": "jETLAcqcVQM3",
        "colab_type": "code",
        "outputId": "1f553df4-369e-44d2-87b6-ab5ec86eb9a0",
        "colab": {
          "base_uri": "https://localhost:8080/",
          "height": 450
        }
      },
      "source": [
        "import pandas as pd\n",
        "\n",
        "data = pd.read_csv('/content/drive/My Drive/all_data.csv')\n",
        "print(data.columns)\n",
        "print(data[0:10])\n",
        "\n",
        "data['type'] = data['type'].replace('fake', 0)\n",
        "data['type'] = data['type'].replace('real', 1)\n",
        "\n",
        "texts = []\n",
        "labels = []\n",
        "\n",
        "for i in range(data.text.shape[0]):\n",
        "    text = data.text[i]\n",
        "    texts.append(text)\n",
        "    label = data.type[i]\n",
        "    labels.append(label)"
      ],
      "execution_count": 4,
      "outputs": [
        {
          "output_type": "stream",
          "text": [
            "Index(['Unnamed: 0', 'Unnamed: 0.1', 'author', 'comments', 'country',\n",
            "       'crawled', 'domain_rank', 'id', 'language', 'likes', 'main_img_url',\n",
            "       'ord_in_thread', 'participants_count', 'published', 'replies_count',\n",
            "       'shares', 'site_url', 'spam_score', 'text', 'thread_title', 'title',\n",
            "       'type', 'uuid', 'caps_title', 'caps_thread', 'caps_text', 'title_len',\n",
            "       'thread_len', 'text_len', 'excl_title', 'excl_thread', 'excl_text',\n",
            "       'first_title', 'first_thread', 'first_text', 'second_title',\n",
            "       'second_thread', 'second_text', 'third_title', 'third_thread',\n",
            "       'third_text', 'anger', 'anticipation', 'disgust', 'fear', 'joy',\n",
            "       'sadness', 'surprise', 'trust', 'negative', 'positive', 'first_all',\n",
            "       'second_all', 'third_all'],\n",
            "      dtype='object')\n",
            "   Unnamed: 0  Unnamed: 0.1  ... second_all  third_all\n",
            "0           1           NaN  ...        150         45\n",
            "1           2           NaN  ...         38         28\n",
            "2           3           NaN  ...        168         68\n",
            "3           4           NaN  ...        136         71\n",
            "4           5           NaN  ...         82         28\n",
            "5           6           NaN  ...         91         33\n",
            "6           7           NaN  ...         32         19\n",
            "7           8           NaN  ...        159         63\n",
            "8           9           NaN  ...        207         63\n",
            "9          10           NaN  ...         62         41\n",
            "\n",
            "[10 rows x 54 columns]\n"
          ],
          "name": "stdout"
        }
      ]
    },
    {
      "cell_type": "code",
      "metadata": {
        "id": "f9qIEyNFWRqP",
        "colab_type": "code",
        "outputId": "4856d5fc-7dd5-4db0-d593-29c122d342ba",
        "colab": {
          "base_uri": "https://localhost:8080/",
          "height": 34
        }
      },
      "source": [
        "from keras.preprocessing.text import Tokenizer\n",
        "\n",
        "tokenizer = Tokenizer(num_words=200000)\n",
        "tokenizer.fit_on_texts(texts)\n",
        "sequences = tokenizer.texts_to_sequences(texts)\n",
        "\n",
        "word_index = tokenizer.word_index\n",
        "print('Number of Unique tokens for the feature text is %s' % len(word_index))"
      ],
      "execution_count": 5,
      "outputs": [
        {
          "output_type": "stream",
          "text": [
            "Number of Unique tokens for the feature text is 140674\n"
          ],
          "name": "stdout"
        }
      ]
    },
    {
      "cell_type": "code",
      "metadata": {
        "id": "7LBH9PwcWcON",
        "colab_type": "code",
        "outputId": "90ef056b-d2ef-459c-c018-c8b3da2fe949",
        "colab": {
          "base_uri": "https://localhost:8080/",
          "height": 51
        }
      },
      "source": [
        "from keras.preprocessing.sequence import pad_sequences\n",
        "from keras.utils.np_utils import to_categorical\n",
        "\n",
        "data = pad_sequences(sequences, maxlen=MAX_NO_OF_WORDS)\n",
        "print('Shape of text data:', data.shape)\n",
        "\n",
        "labels = to_categorical(np.asarray(labels),num_classes = 2)\n",
        "print('Shape of label data:', labels.shape)"
      ],
      "execution_count": 6,
      "outputs": [
        {
          "output_type": "stream",
          "text": [
            "Shape of text data: (20015, 1606)\n",
            "Shape of label data: (20015, 2)\n"
          ],
          "name": "stdout"
        }
      ]
    },
    {
      "cell_type": "code",
      "metadata": {
        "id": "vFV6qPTeW4mH",
        "colab_type": "code",
        "outputId": "480e2c92-1539-48e1-af5e-f8f52c515f33",
        "colab": {
          "base_uri": "https://localhost:8080/",
          "height": 34
        }
      },
      "source": [
        "from sklearn.model_selection import train_test_split\n",
        "\n",
        "indices = np.arange(data.shape[0])\n",
        "np.random.shuffle(indices)\n",
        "\n",
        "data = data[indices]\n",
        "labels = labels[indices]\n",
        "\n",
        "test_size = 0.3\n",
        "validaiton_size = 0.3\n",
        "\n",
        "X_train, X_test, y_train, y_test = train_test_split( data, labels, test_size=test_size, random_state=42)\n",
        "X_train, X_val, y_train, y_val = train_test_split( X_train, y_train, test_size=validaiton_size, random_state=42)\n",
        "\n",
        "print('Size of train, test for the text:', len(y_train), len(y_test))"
      ],
      "execution_count": 7,
      "outputs": [
        {
          "output_type": "stream",
          "text": [
            "Size of train, test for the text: 9807 6005\n"
          ],
          "name": "stdout"
        }
      ]
    },
    {
      "cell_type": "code",
      "metadata": {
        "id": "KhFL_OZ5a5wE",
        "colab_type": "code",
        "outputId": "6fa4e35a-a00f-46bb-b615-6a32fc0ed139",
        "colab": {
          "base_uri": "https://localhost:8080/",
          "height": 311
        }
      },
      "source": [
        "!wget http://nlp.stanford.edu/data/glove.6B.zip"
      ],
      "execution_count": 8,
      "outputs": [
        {
          "output_type": "stream",
          "text": [
            "--2020-01-13 18:32:40--  http://nlp.stanford.edu/data/glove.6B.zip\n",
            "Resolving nlp.stanford.edu (nlp.stanford.edu)... 171.64.67.140\n",
            "Connecting to nlp.stanford.edu (nlp.stanford.edu)|171.64.67.140|:80... connected.\n",
            "HTTP request sent, awaiting response... 302 Found\n",
            "Location: https://nlp.stanford.edu/data/glove.6B.zip [following]\n",
            "--2020-01-13 18:32:40--  https://nlp.stanford.edu/data/glove.6B.zip\n",
            "Connecting to nlp.stanford.edu (nlp.stanford.edu)|171.64.67.140|:443... connected.\n",
            "HTTP request sent, awaiting response... 301 Moved Permanently\n",
            "Location: http://downloads.cs.stanford.edu/nlp/data/glove.6B.zip [following]\n",
            "--2020-01-13 18:32:40--  http://downloads.cs.stanford.edu/nlp/data/glove.6B.zip\n",
            "Resolving downloads.cs.stanford.edu (downloads.cs.stanford.edu)... 171.64.64.22\n",
            "Connecting to downloads.cs.stanford.edu (downloads.cs.stanford.edu)|171.64.64.22|:80... connected.\n",
            "HTTP request sent, awaiting response... 200 OK\n",
            "Length: 862182613 (822M) [application/zip]\n",
            "Saving to: ‘glove.6B.zip’\n",
            "\n",
            "glove.6B.zip          6%[>                   ]  52.84M  20.1MB/s               ^C\n"
          ],
          "name": "stdout"
        }
      ]
    },
    {
      "cell_type": "code",
      "metadata": {
        "id": "r6Z9aZ4Na90N",
        "colab_type": "code",
        "outputId": "bef0a302-0488-4ff4-a19c-d8e074ec1ec5",
        "colab": {
          "base_uri": "https://localhost:8080/",
          "height": 51
        }
      },
      "source": [
        "!unzip /content/drive/My\\ Drive/glove.6B.zip"
      ],
      "execution_count": 9,
      "outputs": [
        {
          "output_type": "stream",
          "text": [
            "Archive:  /content/drive/My Drive/glove.6B.zip\n",
            "  inflating: glove.6B.50d.txt        "
          ],
          "name": "stdout"
        }
      ]
    },
    {
      "cell_type": "code",
      "metadata": {
        "id": "rFnqbrh7bFJu",
        "colab_type": "code",
        "outputId": "b945c965-b08c-4572-9e73-8ee83b4ea85c",
        "colab": {
          "base_uri": "https://localhost:8080/",
          "height": 71
        }
      },
      "source": [
        "import os\n",
        "from keras.layers import Embedding\n",
        "\n",
        "embeddings_index = {}\n",
        "f = open('/content/drive/My Drive/glove.6B.100d.txt', encoding=\"utf8\")\n",
        "for line in f:\n",
        "    values = line.split()\n",
        "    word = values[0]\n",
        "    coefs = np.asarray(values[1:], dtype='float32')\n",
        "    embeddings_index[word] = coefs\n",
        "f.close()\n",
        "\n",
        "embedding_matrix = np.random.random((len(word_index) + 1, EMBEDDING_DIMENSION))\n",
        "for word, i in word_index.items():\n",
        "    embedding_vector = embeddings_index.get(word)\n",
        "    if embedding_vector is not None:\n",
        "        embedding_matrix[i] = embedding_vector\n",
        "        \n",
        "embedding_layer = Embedding(len(word_index) + 1, EMBEDDING_DIMENSION, weights=[embedding_matrix], input_length=MAX_NO_OF_WORDS)"
      ],
      "execution_count": 10,
      "outputs": [
        {
          "output_type": "stream",
          "text": [
            "WARNING:tensorflow:From /usr/local/lib/python3.6/dist-packages/keras/backend/tensorflow_backend.py:66: The name tf.get_default_graph is deprecated. Please use tf.compat.v1.get_default_graph instead.\n",
            "\n"
          ],
          "name": "stdout"
        }
      ]
    },
    {
      "cell_type": "markdown",
      "metadata": {
        "id": "2NeoGeJgE5xn",
        "colab_type": "text"
      },
      "source": [
        "# **CNN Architecture**\n",
        "## For better understanding of the model used, please refer to the following image of the architecture.\n",
        "\n",
        "![](https://drive.google.com/uc?id=13RdD9MEzDLgRr0DwpHuU8bNYsfAaMG1N)\n"
      ]
    },
    {
      "cell_type": "code",
      "metadata": {
        "id": "dy3XjKP6wR7E",
        "colab_type": "code",
        "outputId": "8fd62a77-30e2-49b4-9c69-1d12b41a4be7",
        "colab": {
          "base_uri": "https://localhost:8080/",
          "height": 1000
        }
      },
      "source": [
        "from keras.layers import Dense, Input, Flatten\n",
        "from keras.layers import Conv1D, MaxPooling1D, Embedding, Concatenate, Dropout\n",
        "from keras.models import Model\n",
        "\n",
        "sequence_input = Input(shape=(MAX_NO_OF_WORDS,), dtype='int32')\n",
        "embedded_sequences = embedding_layer(sequence_input)\n",
        "\n",
        "branches = []\n",
        "filter_sizes = [3,4,5]\n",
        "\n",
        "for filter_size in filter_sizes:\n",
        "    text_conv = Conv1D(nb_filter=42,filter_length=filter_size, activation='relu')(embedded_sequences)\n",
        "    text_maxpool = MaxPooling1D(5)(text_conv)\n",
        "    branches.append(text_maxpool)\n",
        "    \n",
        "merge = Concatenate(axis=1)(branches)\n",
        "conv_1= Conv1D(filters=128, kernel_size=5, activation='relu')(merge)\n",
        "max_pool_1 = MaxPooling1D(5)(conv_1)\n",
        "conv_2 = Conv1D(filters=128, kernel_size=5, activation='relu')(max_pool_1)\n",
        "max_pool_2 = MaxPooling1D(30)(conv_2)\n",
        "flat = Flatten()(max_pool_2)\n",
        "dense_1 = Dense(128, activation='relu')(flat)\n",
        "dropout_1 = Dropout(0.110)(dense_1)\n",
        "dense_2 = Dense(128, activation='relu')(dropout_1)\n",
        "dropout_2 = Dropout(0.159)(dense_2)\n",
        "dense_3 = Dense(128, activation='relu')(dropout_2)\n",
        "dropout_3 = Dropout(0.159)(dense_3)\n",
        "dense_out = Dense(2, activation='softmax')(dropout_3)\n",
        "\n",
        "model = Model(sequence_input, dense_out)\n",
        "model.compile(loss='categorical_crossentropy', optimizer='adadelta', metrics=['acc'])\n",
        "\n",
        "model.summary()\n",
        "history = model.fit(X_train, y_train, validation_data=(X_val, y_val), epochs=4, batch_size=50)"
      ],
      "execution_count": 11,
      "outputs": [
        {
          "output_type": "stream",
          "text": [
            "WARNING:tensorflow:From /usr/local/lib/python3.6/dist-packages/keras/backend/tensorflow_backend.py:541: The name tf.placeholder is deprecated. Please use tf.compat.v1.placeholder instead.\n",
            "\n",
            "WARNING:tensorflow:From /usr/local/lib/python3.6/dist-packages/keras/backend/tensorflow_backend.py:4432: The name tf.random_uniform is deprecated. Please use tf.random.uniform instead.\n",
            "\n",
            "WARNING:tensorflow:From /usr/local/lib/python3.6/dist-packages/keras/backend/tensorflow_backend.py:190: The name tf.get_default_session is deprecated. Please use tf.compat.v1.get_default_session instead.\n",
            "\n",
            "WARNING:tensorflow:From /usr/local/lib/python3.6/dist-packages/keras/backend/tensorflow_backend.py:197: The name tf.ConfigProto is deprecated. Please use tf.compat.v1.ConfigProto instead.\n",
            "\n",
            "WARNING:tensorflow:From /usr/local/lib/python3.6/dist-packages/keras/backend/tensorflow_backend.py:203: The name tf.Session is deprecated. Please use tf.compat.v1.Session instead.\n",
            "\n",
            "WARNING:tensorflow:From /usr/local/lib/python3.6/dist-packages/keras/backend/tensorflow_backend.py:207: The name tf.global_variables is deprecated. Please use tf.compat.v1.global_variables instead.\n",
            "\n",
            "WARNING:tensorflow:From /usr/local/lib/python3.6/dist-packages/keras/backend/tensorflow_backend.py:216: The name tf.is_variable_initialized is deprecated. Please use tf.compat.v1.is_variable_initialized instead.\n",
            "\n",
            "WARNING:tensorflow:From /usr/local/lib/python3.6/dist-packages/keras/backend/tensorflow_backend.py:223: The name tf.variables_initializer is deprecated. Please use tf.compat.v1.variables_initializer instead.\n",
            "\n",
            "WARNING:tensorflow:From /usr/local/lib/python3.6/dist-packages/keras/backend/tensorflow_backend.py:4267: The name tf.nn.max_pool is deprecated. Please use tf.nn.max_pool2d instead.\n",
            "\n",
            "WARNING:tensorflow:From /usr/local/lib/python3.6/dist-packages/keras/backend/tensorflow_backend.py:148: The name tf.placeholder_with_default is deprecated. Please use tf.compat.v1.placeholder_with_default instead.\n",
            "\n",
            "WARNING:tensorflow:From /usr/local/lib/python3.6/dist-packages/keras/backend/tensorflow_backend.py:3733: calling dropout (from tensorflow.python.ops.nn_ops) with keep_prob is deprecated and will be removed in a future version.\n",
            "Instructions for updating:\n",
            "Please use `rate` instead of `keep_prob`. Rate should be set to `rate = 1 - keep_prob`.\n",
            "WARNING:tensorflow:From /usr/local/lib/python3.6/dist-packages/keras/optimizers.py:793: The name tf.train.Optimizer is deprecated. Please use tf.compat.v1.train.Optimizer instead.\n",
            "\n",
            "WARNING:tensorflow:From /usr/local/lib/python3.6/dist-packages/keras/backend/tensorflow_backend.py:3576: The name tf.log is deprecated. Please use tf.math.log instead.\n",
            "\n"
          ],
          "name": "stdout"
        },
        {
          "output_type": "stream",
          "text": [
            "/usr/local/lib/python3.6/dist-packages/ipykernel_launcher.py:12: UserWarning: Update your `Conv1D` call to the Keras 2 API: `Conv1D(activation=\"relu\", filters=42, kernel_size=3)`\n",
            "  if sys.path[0] == '':\n",
            "/usr/local/lib/python3.6/dist-packages/ipykernel_launcher.py:12: UserWarning: Update your `Conv1D` call to the Keras 2 API: `Conv1D(activation=\"relu\", filters=42, kernel_size=4)`\n",
            "  if sys.path[0] == '':\n",
            "/usr/local/lib/python3.6/dist-packages/ipykernel_launcher.py:12: UserWarning: Update your `Conv1D` call to the Keras 2 API: `Conv1D(activation=\"relu\", filters=42, kernel_size=5)`\n",
            "  if sys.path[0] == '':\n"
          ],
          "name": "stderr"
        },
        {
          "output_type": "stream",
          "text": [
            "Model: \"model_1\"\n",
            "__________________________________________________________________________________________________\n",
            "Layer (type)                    Output Shape         Param #     Connected to                     \n",
            "==================================================================================================\n",
            "input_1 (InputLayer)            (None, 1606)         0                                            \n",
            "__________________________________________________________________________________________________\n",
            "embedding_1 (Embedding)         (None, 1606, 100)    14067500    input_1[0][0]                    \n",
            "__________________________________________________________________________________________________\n",
            "conv1d_1 (Conv1D)               (None, 1604, 42)     12642       embedding_1[0][0]                \n",
            "__________________________________________________________________________________________________\n",
            "conv1d_2 (Conv1D)               (None, 1603, 42)     16842       embedding_1[0][0]                \n",
            "__________________________________________________________________________________________________\n",
            "conv1d_3 (Conv1D)               (None, 1602, 42)     21042       embedding_1[0][0]                \n",
            "__________________________________________________________________________________________________\n",
            "max_pooling1d_1 (MaxPooling1D)  (None, 320, 42)      0           conv1d_1[0][0]                   \n",
            "__________________________________________________________________________________________________\n",
            "max_pooling1d_2 (MaxPooling1D)  (None, 320, 42)      0           conv1d_2[0][0]                   \n",
            "__________________________________________________________________________________________________\n",
            "max_pooling1d_3 (MaxPooling1D)  (None, 320, 42)      0           conv1d_3[0][0]                   \n",
            "__________________________________________________________________________________________________\n",
            "concatenate_1 (Concatenate)     (None, 960, 42)      0           max_pooling1d_1[0][0]            \n",
            "                                                                 max_pooling1d_2[0][0]            \n",
            "                                                                 max_pooling1d_3[0][0]            \n",
            "__________________________________________________________________________________________________\n",
            "conv1d_4 (Conv1D)               (None, 956, 128)     27008       concatenate_1[0][0]              \n",
            "__________________________________________________________________________________________________\n",
            "max_pooling1d_4 (MaxPooling1D)  (None, 191, 128)     0           conv1d_4[0][0]                   \n",
            "__________________________________________________________________________________________________\n",
            "conv1d_5 (Conv1D)               (None, 187, 128)     82048       max_pooling1d_4[0][0]            \n",
            "__________________________________________________________________________________________________\n",
            "max_pooling1d_5 (MaxPooling1D)  (None, 6, 128)       0           conv1d_5[0][0]                   \n",
            "__________________________________________________________________________________________________\n",
            "flatten_1 (Flatten)             (None, 768)          0           max_pooling1d_5[0][0]            \n",
            "__________________________________________________________________________________________________\n",
            "dense_1 (Dense)                 (None, 128)          98432       flatten_1[0][0]                  \n",
            "__________________________________________________________________________________________________\n",
            "dropout_1 (Dropout)             (None, 128)          0           dense_1[0][0]                    \n",
            "__________________________________________________________________________________________________\n",
            "dense_2 (Dense)                 (None, 128)          16512       dropout_1[0][0]                  \n",
            "__________________________________________________________________________________________________\n",
            "dropout_2 (Dropout)             (None, 128)          0           dense_2[0][0]                    \n",
            "__________________________________________________________________________________________________\n",
            "dense_3 (Dense)                 (None, 128)          16512       dropout_2[0][0]                  \n",
            "__________________________________________________________________________________________________\n",
            "dropout_3 (Dropout)             (None, 128)          0           dense_3[0][0]                    \n",
            "__________________________________________________________________________________________________\n",
            "dense_4 (Dense)                 (None, 2)            258         dropout_3[0][0]                  \n",
            "==================================================================================================\n",
            "Total params: 14,358,796\n",
            "Trainable params: 14,358,796\n",
            "Non-trainable params: 0\n",
            "__________________________________________________________________________________________________\n",
            "WARNING:tensorflow:From /usr/local/lib/python3.6/dist-packages/tensorflow_core/python/ops/math_grad.py:1424: where (from tensorflow.python.ops.array_ops) is deprecated and will be removed in a future version.\n",
            "Instructions for updating:\n",
            "Use tf.where in 2.0, which has the same broadcast rule as np.where\n",
            "WARNING:tensorflow:From /usr/local/lib/python3.6/dist-packages/keras/backend/tensorflow_backend.py:1033: The name tf.assign_add is deprecated. Please use tf.compat.v1.assign_add instead.\n",
            "\n",
            "WARNING:tensorflow:From /usr/local/lib/python3.6/dist-packages/keras/backend/tensorflow_backend.py:1020: The name tf.assign is deprecated. Please use tf.compat.v1.assign instead.\n",
            "\n",
            "Train on 9807 samples, validate on 4203 samples\n",
            "Epoch 1/4\n",
            "9807/9807 [==============================] - 8s 866us/step - loss: 0.5608 - acc: 0.7169 - val_loss: 0.4534 - val_acc: 0.8232\n",
            "Epoch 2/4\n",
            "9807/9807 [==============================] - 6s 636us/step - loss: 0.2480 - acc: 0.8975 - val_loss: 0.1853 - val_acc: 0.9236\n",
            "Epoch 3/4\n",
            "9807/9807 [==============================] - 6s 631us/step - loss: 0.1365 - acc: 0.9474 - val_loss: 0.2267 - val_acc: 0.9101\n",
            "Epoch 4/4\n",
            "9807/9807 [==============================] - 6s 634us/step - loss: 0.0695 - acc: 0.9768 - val_loss: 0.1939 - val_acc: 0.9453\n"
          ],
          "name": "stdout"
        }
      ]
    },
    {
      "cell_type": "code",
      "metadata": {
        "id": "1LSLdARpw-mB",
        "colab_type": "code",
        "outputId": "3cb00514-038c-45c0-b3db-3c0e2180507e",
        "colab": {
          "base_uri": "https://localhost:8080/",
          "height": 590
        }
      },
      "source": [
        "print(history.history.keys())\n",
        "import matplotlib.pyplot as plt\n",
        "%matplotlib inline \n",
        "\n",
        "plt.plot(history.history['acc'])\n",
        "plt.plot(history.history['val_acc'])\n",
        "plt.title('model accuracy')\n",
        "plt.ylabel('accuracy')\n",
        "plt.xlabel('epochs')\n",
        "plt.legend(['train', 'test'], loc='upper left')\n",
        "plt.show()\n",
        "\n",
        "plt.plot(history.history['loss'])\n",
        "plt.plot(history.history['val_loss'])\n",
        "plt.title('model loss')\n",
        "plt.ylabel('loss')\n",
        "plt.xlabel('epoch')\n",
        "plt.legend(['train', 'test'], loc='upper left')\n",
        "plt.show()"
      ],
      "execution_count": 12,
      "outputs": [
        {
          "output_type": "stream",
          "text": [
            "dict_keys(['val_loss', 'val_acc', 'loss', 'acc'])\n"
          ],
          "name": "stdout"
        },
        {
          "output_type": "display_data",
          "data": {
            "image/png": "[encoded data removed]",
            "text/plain": [
              "<Figure size 432x288 with 1 Axes>"
            ]
          },
          "metadata": {
            "tags": []
          }
        },
        {
          "output_type": "display_data",
          "data": {
            "image/png": "[encoded data removed]",
            "text/plain": [
              "<Figure size 432x288 with 1 Axes>"
            ]
          },
          "metadata": {
            "tags": []
          }
        }
      ]
    },
    {
      "cell_type": "code",
      "metadata": {
        "id": "3HoVHZRyxALk",
        "colab_type": "code",
        "outputId": "4e7461b5-89e8-438c-8d3f-0667defa8f2e",
        "colab": {
          "base_uri": "https://localhost:8080/",
          "height": 51
        }
      },
      "source": [
        "score = model.evaluate(X_test, y_test, verbose=0)\n",
        "print('Loss on test:', score[0])\n",
        "print('Accuracy on test:', score[1])"
      ],
      "execution_count": 13,
      "outputs": [
        {
          "output_type": "stream",
          "text": [
            "Loss on test: 0.1717653066838016\n",
            "Accuracy on test: 0.951873438810925\n"
          ],
          "name": "stdout"
        }
      ]
    },
    {
      "cell_type": "code",
      "metadata": {
        "id": "LgFp8gGvb5Dl",
        "colab_type": "code",
        "colab": {}
      },
      "source": [
        "model.save('drive/My Drive/model.h5')"
      ],
      "execution_count": 0,
      "outputs": []
    },
    {
      "cell_type": "code",
      "metadata": {
        "id": "-K0TNwLFe25s",
        "colab_type": "code",
        "colab": {}
      },
      "source": [
        "from google.colab import files\n",
        "files.download(\"drive/My Drive/model.h5\")"
      ],
      "execution_count": 0,
      "outputs": []
    }
  ]
}