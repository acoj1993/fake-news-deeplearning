{
  "nbformat": 4,
  "nbformat_minor": 0,
  "metadata": {
    "colab": {
      "name": "Untitled2.ipynb",
      "provenance": [],
      "include_colab_link": true
    },
    "kernelspec": {
      "name": "python3",
      "display_name": "Python 3"
    },
    "accelerator": "GPU"
  },
  "cells": [
    {
      "cell_type": "markdown",
      "metadata": {
        "id": "view-in-github",
        "colab_type": "text"
      },
      "source": [
        "<a href=\"https://colab.research.google.com/github/acoj1993/fake-news-deeplearning/blob/master/cnn.ipynb\" target=\"_parent\"><img src=\"https://colab.research.google.com/assets/colab-badge.svg\" alt=\"Open In Colab\"/></a>"
      ]
    },
    {
      "cell_type": "code",
      "metadata": {
        "id": "Y137M2z5TNUm",
        "colab_type": "code",
        "outputId": "40e179df-77aa-4552-c1ac-0af5771efebb",
        "colab": {
          "base_uri": "https://localhost:8080/",
          "height": 607
        }
      },
      "source": [
        "import keras\n",
        "from tensorflow.python.client import device_lib\n",
        "\n",
        "print(device_lib.list_local_devices())\n",
        "import numpy as np\n",
        "import pandas as pd\n",
        "from collections import defaultdict\n",
        "import re\n",
        "\n",
        "\n",
        "import sys\n",
        "import os\n",
        "\n",
        "from keras.preprocessing.text import Tokenizer\n",
        "from keras.preprocessing.sequence import pad_sequences\n",
        "from keras.optimizers import SGD\n",
        "from keras.utils.np_utils import to_categorical\n",
        "\n",
        "from keras.layers import Embedding\n",
        "from keras.layers import Dense, Input, Flatten\n",
        "from keras.layers import Conv1D, MaxPooling1D, Embedding, Concatenate, Dropout\n",
        "from keras.models import Model\n",
        "\n",
        "MAX_SEQUENCE_LENGTH_TEXT = 1606\n",
        "MAX_SEQUENCE_LENGTH_TITLE = 13\n",
        "\n",
        "MAX_NB_WORDS = 200000\n",
        "EMBEDDING_DIM = 100\n",
        "\n",
        "TEST_SPLIT = 0.3\n",
        "VALIDATION_SPLIT = 0.3"
      ],
      "execution_count": 2,
      "outputs": [
        {
          "output_type": "stream",
          "text": [
            "Using TensorFlow backend.\n"
          ],
          "name": "stderr"
        },
        {
          "output_type": "display_data",
          "data": {
            "text/html": [
              "<p style=\"color: red;\">\n",
              "The default version of TensorFlow in Colab will soon switch to TensorFlow 2.x.<br>\n",
              "We recommend you <a href=\"https://www.tensorflow.org/guide/migrate\" target=\"_blank\">upgrade</a> now \n",
              "or ensure your notebook will continue to use TensorFlow 1.x via the <code>%tensorflow_version 1.x</code> magic:\n",
              "<a href=\"https://colab.research.google.com/notebooks/tensorflow_version.ipynb\" target=\"_blank\">more info</a>.</p>\n"
            ],
            "text/plain": [
              "<IPython.core.display.HTML object>"
            ]
          },
          "metadata": {
            "tags": []
          }
        },
        {
          "output_type": "stream",
          "text": [
            "[name: \"/device:CPU:0\"\n",
            "device_type: \"CPU\"\n",
            "memory_limit: 268435456\n",
            "locality {\n",
            "}\n",
            "incarnation: 14612309940206048022\n",
            ", name: \"/device:XLA_CPU:0\"\n",
            "device_type: \"XLA_CPU\"\n",
            "memory_limit: 17179869184\n",
            "locality {\n",
            "}\n",
            "incarnation: 873072228274754673\n",
            "physical_device_desc: \"device: XLA_CPU device\"\n",
            ", name: \"/device:XLA_GPU:0\"\n",
            "device_type: \"XLA_GPU\"\n",
            "memory_limit: 17179869184\n",
            "locality {\n",
            "}\n",
            "incarnation: 7644085399682151691\n",
            "physical_device_desc: \"device: XLA_GPU device\"\n",
            ", name: \"/device:GPU:0\"\n",
            "device_type: \"GPU\"\n",
            "memory_limit: 15956161332\n",
            "locality {\n",
            "  bus_id: 1\n",
            "  links {\n",
            "  }\n",
            "}\n",
            "incarnation: 4483033650697101699\n",
            "physical_device_desc: \"device: 0, name: Tesla P100-PCIE-16GB, pci bus id: 0000:00:04.0, compute capability: 6.0\"\n",
            "]\n"
          ],
          "name": "stdout"
        }
      ]
    },
    {
      "cell_type": "code",
      "metadata": {
        "id": "8Tv2S_PZUp-P",
        "colab_type": "code",
        "colab": {}
      },
      "source": [
        "def clean_str(string):\n",
        "    string = re.sub(r\"\\\\\", \"\", string)    \n",
        "    string = re.sub(r\"\\'\", \"\", string)    \n",
        "    string = re.sub(r\"\\\"\", \"\", string)    \n",
        "    return string.strip().lower()"
      ],
      "execution_count": 0,
      "outputs": []
    },
    {
      "cell_type": "code",
      "metadata": {
        "id": "Zq1I5AKiU74P",
        "colab_type": "code",
        "outputId": "cec8ab75-34ba-4fc7-f3e9-0e3a8de127af",
        "colab": {
          "base_uri": "https://localhost:8080/",
          "height": 122
        }
      },
      "source": [
        "from google.colab import drive\n",
        "drive.mount('/content/drive')"
      ],
      "execution_count": 3,
      "outputs": [
        {
          "output_type": "stream",
          "text": [
            "Go to this URL in a browser: https://accounts.google.com/o/oauth2/auth?client_id=947318989803-6bn6qk8qdgf4n4g3pfee6491hc0brc4i.apps.googleusercontent.com&redirect_uri=urn%3aietf%3awg%3aoauth%3a2.0%3aoob&response_type=code&scope=email%20https%3a%2f%2fwww.googleapis.com%2fauth%2fdocs.test%20https%3a%2f%2fwww.googleapis.com%2fauth%2fdrive%20https%3a%2f%2fwww.googleapis.com%2fauth%2fdrive.photos.readonly%20https%3a%2f%2fwww.googleapis.com%2fauth%2fpeopleapi.readonly\n",
            "\n",
            "Enter your authorization code:\n",
            "··········\n",
            "Mounted at /content/drive\n"
          ],
          "name": "stdout"
        }
      ]
    },
    {
      "cell_type": "code",
      "metadata": {
        "id": "K9sn-BWIUvH0",
        "colab_type": "code",
        "outputId": "ad947121-278c-4579-b0f4-6f317735b9ba",
        "colab": {
          "base_uri": "https://localhost:8080/",
          "height": 34
        }
      },
      "source": [
        "data_train = pd.read_csv('/content/drive/My Drive/all_data.csv')\n",
        "data_train.title[1]"
      ],
      "execution_count": 4,
      "outputs": [
        {
          "output_type": "execute_result",
          "data": {
            "text/plain": [
              "'Trump Foundation Tells New York It Has Stopped Soliciting After State Order'"
            ]
          },
          "metadata": {
            "tags": []
          },
          "execution_count": 4
        }
      ]
    },
    {
      "cell_type": "code",
      "metadata": {
        "id": "jETLAcqcVQM3",
        "colab_type": "code",
        "outputId": "3ec1d0f3-4ea6-48b3-ada8-113174532f22",
        "colab": {
          "base_uri": "https://localhost:8080/",
          "height": 374
        }
      },
      "source": [
        "data_train = pd.read_csv('/content/drive/My Drive/all_data.csv')\n",
        "print(data_train.columns)\n",
        "print('What the raw input data looks like:')\n",
        "print(data_train[0:5])\n",
        "\n",
        "# transorm strings fake and real to 0 and 1, respectively\n",
        "data_train['type'] = data_train['type'].replace('fake', 0)\n",
        "data_train['type'] = data_train['type'].replace('real', 1)\n",
        "\n",
        "titles = []\n",
        "texts = []\n",
        "labels = []\n",
        "\n",
        "for i in range(data_train.text.shape[0]):\n",
        "    # append title\n",
        "    title = data_train.title[i]\n",
        "    titles.append(title)\n",
        "    # append text\n",
        "    text = data_train.text[i]\n",
        "    texts.append(text)\n",
        "    # append label\n",
        "    label = data_train.type[i]\n",
        "    labels.append(label)"
      ],
      "execution_count": 5,
      "outputs": [
        {
          "output_type": "stream",
          "text": [
            "Index(['Unnamed: 0', 'Unnamed: 0.1', 'author', 'comments', 'country',\n",
            "       'crawled', 'domain_rank', 'id', 'language', 'likes', 'main_img_url',\n",
            "       'ord_in_thread', 'participants_count', 'published', 'replies_count',\n",
            "       'shares', 'site_url', 'spam_score', 'text', 'thread_title', 'title',\n",
            "       'type', 'uuid', 'caps_title', 'caps_thread', 'caps_text', 'title_len',\n",
            "       'thread_len', 'text_len', 'excl_title', 'excl_thread', 'excl_text',\n",
            "       'first_title', 'first_thread', 'first_text', 'second_title',\n",
            "       'second_thread', 'second_text', 'third_title', 'third_thread',\n",
            "       'third_text', 'anger', 'anticipation', 'disgust', 'fear', 'joy',\n",
            "       'sadness', 'surprise', 'trust', 'negative', 'positive', 'first_all',\n",
            "       'second_all', 'third_all'],\n",
            "      dtype='object')\n",
            "What the raw input data looks like:\n",
            "   Unnamed: 0  Unnamed: 0.1  ... second_all  third_all\n",
            "0           1           NaN  ...        150         45\n",
            "1           2           NaN  ...         38         28\n",
            "2           3           NaN  ...        168         68\n",
            "3           4           NaN  ...        136         71\n",
            "4           5           NaN  ...         82         28\n",
            "\n",
            "[5 rows x 54 columns]\n"
          ],
          "name": "stdout"
        }
      ]
    },
    {
      "cell_type": "code",
      "metadata": {
        "id": "nQcjk05hWNLK",
        "colab_type": "code",
        "outputId": "3c294789-2f38-4453-87f5-b3cb8565a4e7",
        "colab": {
          "base_uri": "https://localhost:8080/",
          "height": 34
        }
      },
      "source": [
        "tokenizer_title = Tokenizer(num_words=MAX_NB_WORDS)\n",
        "tokenizer_title.fit_on_texts(titles)\n",
        "title_sequences = tokenizer_title.texts_to_sequences(titles)\n",
        "\n",
        "word_index_title = tokenizer_title.word_index\n",
        "print('Found %s unique tokens in title.' % len(word_index_title)) "
      ],
      "execution_count": 6,
      "outputs": [
        {
          "output_type": "stream",
          "text": [
            "Found 19928 unique tokens in title.\n"
          ],
          "name": "stdout"
        }
      ]
    },
    {
      "cell_type": "code",
      "metadata": {
        "id": "f9qIEyNFWRqP",
        "colab_type": "code",
        "outputId": "1862592f-7585-4d8f-a1a6-f2eaebc28db8",
        "colab": {
          "base_uri": "https://localhost:8080/",
          "height": 34
        }
      },
      "source": [
        "tokenizer_text = Tokenizer(num_words=MAX_NB_WORDS)\n",
        "tokenizer_text.fit_on_texts(texts)\n",
        "text_sequences = tokenizer_text.texts_to_sequences(texts)\n",
        "\n",
        "word_index_text = tokenizer_text.word_index\n",
        "print('Found %s unique tokens.' % len(word_index_text))"
      ],
      "execution_count": 7,
      "outputs": [
        {
          "output_type": "stream",
          "text": [
            "Found 140674 unique tokens.\n"
          ],
          "name": "stdout"
        }
      ]
    },
    {
      "cell_type": "code",
      "metadata": {
        "id": "7LBH9PwcWcON",
        "colab_type": "code",
        "outputId": "55d8f087-b630-4b02-da3d-d89b8321a4a0",
        "colab": {
          "base_uri": "https://localhost:8080/",
          "height": 68
        }
      },
      "source": [
        "title_data = pad_sequences(title_sequences, maxlen=MAX_SEQUENCE_LENGTH_TITLE)\n",
        "print('Shape of title data:', title_data.shape)\n",
        "\n",
        "text_data = pad_sequences(text_sequences, maxlen=MAX_SEQUENCE_LENGTH_TEXT)\n",
        "print('Shape of text data:', text_data.shape)\n",
        "\n",
        "labels = to_categorical(np.asarray(labels),num_classes = 2)\n",
        "print('Shape of label:', labels.shape)"
      ],
      "execution_count": 8,
      "outputs": [
        {
          "output_type": "stream",
          "text": [
            "Shape of title data: (20015, 13)\n",
            "Shape of text data: (20015, 1606)\n",
            "Shape of label: (20015, 2)\n"
          ],
          "name": "stdout"
        }
      ]
    },
    {
      "cell_type": "code",
      "metadata": {
        "id": "vFV6qPTeW4mH",
        "colab_type": "code",
        "outputId": "1b5507e0-8411-4cf6-ee6a-f54b9a4af525",
        "colab": {
          "base_uri": "https://localhost:8080/",
          "height": 119
        }
      },
      "source": [
        "from sklearn.model_selection import train_test_split\n",
        "\n",
        "indices = np.arange(title_data.shape[0])\n",
        "np.random.shuffle(indices)\n",
        "\n",
        "title_data = title_data[indices]\n",
        "text_data = text_data[indices]\n",
        "labels = labels[indices]\n",
        "\n",
        "x_train_title, x_test_title, y_train, y_test = train_test_split( title_data, labels, test_size=TEST_SPLIT, random_state=42)\n",
        "x_test_title, x_val_title, y_test, y_val = train_test_split( title_data, labels, test_size=VALIDATION_SPLIT, random_state=42)\n",
        "print('Size of train, validation, test for the title :', len(y_train), len(y_val), len(y_test))\n",
        "\n",
        "x_train_text, x_test_text, y_train, y_test = train_test_split( text_data, labels, test_size=TEST_SPLIT, random_state=42)\n",
        "x_test_text, x_val_text, y_test, y_val = train_test_split( text_data, labels, test_size=VALIDATION_SPLIT, random_state=42)\n",
        "print('Size of train, validation, test for the text:', len(y_train), len(y_val), len(y_test))\n",
        "\n",
        "print('real & fake news in train,valt,test:')\n",
        "print(y_train.sum(axis=0))\n",
        "print(y_val.sum(axis=0))\n",
        "print(y_test.sum(axis=0))"
      ],
      "execution_count": 9,
      "outputs": [
        {
          "output_type": "stream",
          "text": [
            "Size of train, validation, test for the title : 14010 6005 14010\n",
            "Size of train, validation, test for the text: 14010 6005 14010\n",
            "real & fake news in train,valt,test:\n",
            "[8338. 5672.]\n",
            "[3603. 2402.]\n",
            "[8338. 5672.]\n"
          ],
          "name": "stdout"
        }
      ]
    },
    {
      "cell_type": "code",
      "metadata": {
        "id": "KhFL_OZ5a5wE",
        "colab_type": "code",
        "outputId": "54ffd3c3-9a03-4099-bd96-e58bab9eed85",
        "colab": {
          "base_uri": "https://localhost:8080/",
          "height": 357
        }
      },
      "source": [
        "!wget http://nlp.stanford.edu/data/glove.6B.zip"
      ],
      "execution_count": 10,
      "outputs": [
        {
          "output_type": "stream",
          "text": [
            "--2019-12-13 14:53:32--  http://nlp.stanford.edu/data/glove.6B.zip\n",
            "Resolving nlp.stanford.edu (nlp.stanford.edu)... 171.64.67.140\n",
            "Connecting to nlp.stanford.edu (nlp.stanford.edu)|171.64.67.140|:80... connected.\n",
            "HTTP request sent, awaiting response... 302 Found\n",
            "Location: https://nlp.stanford.edu/data/glove.6B.zip [following]\n",
            "--2019-12-13 14:53:32--  https://nlp.stanford.edu/data/glove.6B.zip\n",
            "Connecting to nlp.stanford.edu (nlp.stanford.edu)|171.64.67.140|:443... connected.\n",
            "HTTP request sent, awaiting response... 301 Moved Permanently\n",
            "Location: http://downloads.cs.stanford.edu/nlp/data/glove.6B.zip [following]\n",
            "--2019-12-13 14:53:33--  http://downloads.cs.stanford.edu/nlp/data/glove.6B.zip\n",
            "Resolving downloads.cs.stanford.edu (downloads.cs.stanford.edu)... 171.64.64.22\n",
            "Connecting to downloads.cs.stanford.edu (downloads.cs.stanford.edu)|171.64.64.22|:80... connected.\n",
            "HTTP request sent, awaiting response... 200 OK\n",
            "Length: 862182613 (822M) [application/zip]\n",
            "Saving to: ‘glove.6B.zip’\n",
            "\n",
            "glove.6B.zip        100%[===================>] 822.24M  1.95MB/s    in 6m 29s  \n",
            "\n",
            "2019-12-13 15:00:02 (2.11 MB/s) - ‘glove.6B.zip’ saved [862182613/862182613]\n",
            "\n"
          ],
          "name": "stdout"
        }
      ]
    },
    {
      "cell_type": "code",
      "metadata": {
        "id": "r6Z9aZ4Na90N",
        "colab_type": "code",
        "outputId": "dc69c97e-aaf9-46ee-f33e-982062d96c66",
        "colab": {
          "base_uri": "https://localhost:8080/",
          "height": 102
        }
      },
      "source": [
        "!unzip glove*.zip"
      ],
      "execution_count": 11,
      "outputs": [
        {
          "output_type": "stream",
          "text": [
            "Archive:  glove.6B.zip\n",
            "  inflating: glove.6B.50d.txt        \n",
            "  inflating: glove.6B.100d.txt       \n",
            "  inflating: glove.6B.200d.txt       \n",
            "  inflating: glove.6B.300d.txt       \n"
          ],
          "name": "stdout"
        }
      ]
    },
    {
      "cell_type": "code",
      "metadata": {
        "id": "Rnj7dlqra_vo",
        "colab_type": "code",
        "outputId": "2cf68d8d-9f20-43ee-bcd2-96f3562c909d",
        "colab": {
          "base_uri": "https://localhost:8080/",
          "height": 68
        }
      },
      "source": [
        "!ls\n",
        "!pwd"
      ],
      "execution_count": 12,
      "outputs": [
        {
          "output_type": "stream",
          "text": [
            "drive\t\t   glove.6B.200d.txt  glove.6B.50d.txt\tsample_data\n",
            "glove.6B.100d.txt  glove.6B.300d.txt  glove.6B.zip\n",
            "/content\n"
          ],
          "name": "stdout"
        }
      ]
    },
    {
      "cell_type": "code",
      "metadata": {
        "id": "rFnqbrh7bFJu",
        "colab_type": "code",
        "outputId": "50ce7606-9808-4736-e348-4303a2d0b80d",
        "colab": {
          "base_uri": "https://localhost:8080/",
          "height": 88
        }
      },
      "source": [
        "GLOVE_DIR = \"/content\" \n",
        "embeddings_index = {}\n",
        "f = open(os.path.join(GLOVE_DIR, 'glove.6B.100d.txt'), encoding=\"utf8\")\n",
        "for line in f:\n",
        "    values = line.split()\n",
        "    word = values[0]\n",
        "    coefs = np.asarray(values[1:], dtype='float32')\n",
        "    embeddings_index[word] = coefs\n",
        "f.close()\n",
        "\n",
        "print('Total %s word vectors in Glove.' % len(embeddings_index))\n",
        "\n",
        "embedding_matrix_title = np.random.random((len(word_index_title) + 1, EMBEDDING_DIM))\n",
        "for word, i in word_index_title.items():\n",
        "    embedding_vector = embeddings_index.get(word)\n",
        "    if embedding_vector is not None:\n",
        "        # words not found in embedding index will be all-zeros.\n",
        "        embedding_matrix_title[i] = embedding_vector\n",
        "        \n",
        "embedding_layer_title = Embedding(len(word_index_title) + 1,\n",
        "                            EMBEDDING_DIM,\n",
        "                            weights=[embedding_matrix_title],\n",
        "                            input_length=MAX_SEQUENCE_LENGTH_TITLE)\n",
        "\n",
        "embedding_matrix_text = np.random.random((len(word_index_text) + 1, EMBEDDING_DIM))\n",
        "for word, i in word_index_text.items():\n",
        "    embedding_vector = embeddings_index.get(word)\n",
        "    if embedding_vector is not None:\n",
        "        # words not found in embedding index will be all-zeros.\n",
        "        embedding_matrix_text[i] = embedding_vector\n",
        "        \n",
        "embedding_layer_text = Embedding(len(word_index_text) + 1,\n",
        "                            EMBEDDING_DIM,\n",
        "                            weights=[embedding_matrix_text],\n",
        "                            input_length=MAX_SEQUENCE_LENGTH_TEXT)"
      ],
      "execution_count": 13,
      "outputs": [
        {
          "output_type": "stream",
          "text": [
            "Total 400000 word vectors in Glove.\n",
            "WARNING:tensorflow:From /usr/local/lib/python3.6/dist-packages/keras/backend/tensorflow_backend.py:66: The name tf.get_default_graph is deprecated. Please use tf.compat.v1.get_default_graph instead.\n",
            "\n"
          ],
          "name": "stdout"
        }
      ]
    },
    {
      "cell_type": "code",
      "metadata": {
        "id": "l0azzD4-cykN",
        "colab_type": "code",
        "outputId": "273d6ffd-0174-4d95-9e6a-5d9280dc5fe7",
        "colab": {
          "base_uri": "https://localhost:8080/",
          "height": 1000
        }
      },
      "source": [
        "# title branch\n",
        "sequence_input_title = Input(shape=(MAX_SEQUENCE_LENGTH_TITLE,), dtype='int32')\n",
        "embedded_sequences_title = embedding_layer_title(sequence_input_title)\n",
        "title_conv = Conv1D(nb_filter=8, kernel_size=4, activation='relu')(embedded_sequences_title)\n",
        "title_maxpool = MaxPooling1D(4)(title_conv)\n",
        "title_flat = Flatten()(title_maxpool)\n",
        "title_dense = Dense(6, activation='relu')(title_flat)\n",
        "\n",
        "# text branch\n",
        "sequence_input_text = Input(shape=(MAX_SEQUENCE_LENGTH_TEXT,), dtype='int32')\n",
        "embedded_sequences_text = embedding_layer_text(sequence_input_text)\n",
        "text_conv = Conv1D(nb_filter=42, kernel_size=4, activation='relu')(embedded_sequences_text)\n",
        "text_maxpool = MaxPooling1D(4)(text_conv)\n",
        "text_flat = Flatten()(text_maxpool)\n",
        "text_dense = Dense(34, activation='relu')(text_flat)\n",
        "\n",
        "# concat to one model\n",
        "branches = []\n",
        "branches.append(title_dense)\n",
        "branches.append(text_dense)\n",
        "\n",
        "merge = Concatenate(axis=1)(branches)\n",
        "dense_1 = Dense(128, activation='relu')(merge)\n",
        "dropout_1 = Dropout(0.110)(dense_1)\n",
        "dense_2 = Dense(128, activation='relu')(dropout_1)\n",
        "dropout_2 = Dropout(0.159)(dense_2)\n",
        "dense_out = Dense(2, activation='softmax')(dropout_2)\n",
        "\n",
        "# cnn Model\n",
        "model = Model([sequence_input_title, sequence_input_text], dense_out)\n",
        "\n",
        "# gradient descent\n",
        "sgd = SGD(lr=0.240, decay=1e-6, momentum=0.303, nesterov=True)\n",
        "# configure the learning process of the model\n",
        "model.compile(loss='binary_crossentropy', optimizer=sgd, metrics=['accuracy'])\n",
        "\n",
        "print(\"Fitting a convolutional neural network model\")\n",
        "model.summary()\n",
        "\n",
        "history = model.fit([x_train_title, x_train_text], y_train, validation_data=([x_val_title, x_val_text], y_val),\n",
        "          epochs=5, batch_size=50)\n"
      ],
      "execution_count": 14,
      "outputs": [
        {
          "output_type": "stream",
          "text": [
            "WARNING:tensorflow:From /usr/local/lib/python3.6/dist-packages/keras/backend/tensorflow_backend.py:541: The name tf.placeholder is deprecated. Please use tf.compat.v1.placeholder instead.\n",
            "\n",
            "WARNING:tensorflow:From /usr/local/lib/python3.6/dist-packages/keras/backend/tensorflow_backend.py:4432: The name tf.random_uniform is deprecated. Please use tf.random.uniform instead.\n",
            "\n",
            "WARNING:tensorflow:From /usr/local/lib/python3.6/dist-packages/keras/backend/tensorflow_backend.py:190: The name tf.get_default_session is deprecated. Please use tf.compat.v1.get_default_session instead.\n",
            "\n",
            "WARNING:tensorflow:From /usr/local/lib/python3.6/dist-packages/keras/backend/tensorflow_backend.py:197: The name tf.ConfigProto is deprecated. Please use tf.compat.v1.ConfigProto instead.\n",
            "\n",
            "WARNING:tensorflow:From /usr/local/lib/python3.6/dist-packages/keras/backend/tensorflow_backend.py:203: The name tf.Session is deprecated. Please use tf.compat.v1.Session instead.\n",
            "\n",
            "WARNING:tensorflow:From /usr/local/lib/python3.6/dist-packages/keras/backend/tensorflow_backend.py:207: The name tf.global_variables is deprecated. Please use tf.compat.v1.global_variables instead.\n",
            "\n",
            "WARNING:tensorflow:From /usr/local/lib/python3.6/dist-packages/keras/backend/tensorflow_backend.py:216: The name tf.is_variable_initialized is deprecated. Please use tf.compat.v1.is_variable_initialized instead.\n",
            "\n",
            "WARNING:tensorflow:From /usr/local/lib/python3.6/dist-packages/keras/backend/tensorflow_backend.py:223: The name tf.variables_initializer is deprecated. Please use tf.compat.v1.variables_initializer instead.\n",
            "\n",
            "WARNING:tensorflow:From /usr/local/lib/python3.6/dist-packages/keras/backend/tensorflow_backend.py:4267: The name tf.nn.max_pool is deprecated. Please use tf.nn.max_pool2d instead.\n",
            "\n"
          ],
          "name": "stdout"
        },
        {
          "output_type": "stream",
          "text": [
            "/usr/local/lib/python3.6/dist-packages/ipykernel_launcher.py:3: UserWarning: Update your `Conv1D` call to the Keras 2 API: `Conv1D(kernel_size=4, activation=\"relu\", filters=8)`\n",
            "  This is separate from the ipykernel package so we can avoid doing imports until\n",
            "/usr/local/lib/python3.6/dist-packages/ipykernel_launcher.py:11: UserWarning: Update your `Conv1D` call to the Keras 2 API: `Conv1D(kernel_size=4, activation=\"relu\", filters=42)`\n",
            "  # This is added back by InteractiveShellApp.init_path()\n"
          ],
          "name": "stderr"
        },
        {
          "output_type": "stream",
          "text": [
            "WARNING:tensorflow:From /usr/local/lib/python3.6/dist-packages/keras/backend/tensorflow_backend.py:148: The name tf.placeholder_with_default is deprecated. Please use tf.compat.v1.placeholder_with_default instead.\n",
            "\n",
            "WARNING:tensorflow:From /usr/local/lib/python3.6/dist-packages/keras/backend/tensorflow_backend.py:3733: calling dropout (from tensorflow.python.ops.nn_ops) with keep_prob is deprecated and will be removed in a future version.\n",
            "Instructions for updating:\n",
            "Please use `rate` instead of `keep_prob`. Rate should be set to `rate = 1 - keep_prob`.\n",
            "WARNING:tensorflow:From /usr/local/lib/python3.6/dist-packages/keras/optimizers.py:793: The name tf.train.Optimizer is deprecated. Please use tf.compat.v1.train.Optimizer instead.\n",
            "\n",
            "WARNING:tensorflow:From /usr/local/lib/python3.6/dist-packages/keras/backend/tensorflow_backend.py:3657: The name tf.log is deprecated. Please use tf.math.log instead.\n",
            "\n",
            "WARNING:tensorflow:From /usr/local/lib/python3.6/dist-packages/tensorflow_core/python/ops/nn_impl.py:183: where (from tensorflow.python.ops.array_ops) is deprecated and will be removed in a future version.\n",
            "Instructions for updating:\n",
            "Use tf.where in 2.0, which has the same broadcast rule as np.where\n",
            "Fitting a convolutional neural network model\n",
            "Model: \"model_1\"\n",
            "__________________________________________________________________________________________________\n",
            "Layer (type)                    Output Shape         Param #     Connected to                     \n",
            "==================================================================================================\n",
            "input_1 (InputLayer)            (None, 13)           0                                            \n",
            "__________________________________________________________________________________________________\n",
            "input_2 (InputLayer)            (None, 1606)         0                                            \n",
            "__________________________________________________________________________________________________\n",
            "embedding_1 (Embedding)         (None, 13, 100)      1992900     input_1[0][0]                    \n",
            "__________________________________________________________________________________________________\n",
            "embedding_2 (Embedding)         (None, 1606, 100)    14067500    input_2[0][0]                    \n",
            "__________________________________________________________________________________________________\n",
            "conv1d_1 (Conv1D)               (None, 10, 8)        3208        embedding_1[0][0]                \n",
            "__________________________________________________________________________________________________\n",
            "conv1d_2 (Conv1D)               (None, 1603, 42)     16842       embedding_2[0][0]                \n",
            "__________________________________________________________________________________________________\n",
            "max_pooling1d_1 (MaxPooling1D)  (None, 2, 8)         0           conv1d_1[0][0]                   \n",
            "__________________________________________________________________________________________________\n",
            "max_pooling1d_2 (MaxPooling1D)  (None, 400, 42)      0           conv1d_2[0][0]                   \n",
            "__________________________________________________________________________________________________\n",
            "flatten_1 (Flatten)             (None, 16)           0           max_pooling1d_1[0][0]            \n",
            "__________________________________________________________________________________________________\n",
            "flatten_2 (Flatten)             (None, 16800)        0           max_pooling1d_2[0][0]            \n",
            "__________________________________________________________________________________________________\n",
            "dense_1 (Dense)                 (None, 6)            102         flatten_1[0][0]                  \n",
            "__________________________________________________________________________________________________\n",
            "dense_2 (Dense)                 (None, 34)           571234      flatten_2[0][0]                  \n",
            "__________________________________________________________________________________________________\n",
            "concatenate_1 (Concatenate)     (None, 40)           0           dense_1[0][0]                    \n",
            "                                                                 dense_2[0][0]                    \n",
            "__________________________________________________________________________________________________\n",
            "dense_3 (Dense)                 (None, 128)          5248        concatenate_1[0][0]              \n",
            "__________________________________________________________________________________________________\n",
            "dropout_1 (Dropout)             (None, 128)          0           dense_3[0][0]                    \n",
            "__________________________________________________________________________________________________\n",
            "dense_4 (Dense)                 (None, 128)          16512       dropout_1[0][0]                  \n",
            "__________________________________________________________________________________________________\n",
            "dropout_2 (Dropout)             (None, 128)          0           dense_4[0][0]                    \n",
            "__________________________________________________________________________________________________\n",
            "dense_5 (Dense)                 (None, 2)            258         dropout_2[0][0]                  \n",
            "==================================================================================================\n",
            "Total params: 16,673,804\n",
            "Trainable params: 16,673,804\n",
            "Non-trainable params: 0\n",
            "__________________________________________________________________________________________________\n",
            "WARNING:tensorflow:From /usr/local/lib/python3.6/dist-packages/keras/backend/tensorflow_backend.py:1033: The name tf.assign_add is deprecated. Please use tf.compat.v1.assign_add instead.\n",
            "\n",
            "WARNING:tensorflow:From /usr/local/lib/python3.6/dist-packages/keras/backend/tensorflow_backend.py:1020: The name tf.assign is deprecated. Please use tf.compat.v1.assign instead.\n",
            "\n",
            "Train on 14010 samples, validate on 6005 samples\n",
            "Epoch 1/5\n",
            "14010/14010 [==============================] - 8s 573us/step - loss: 6.4455 - acc: 0.5951 - val_loss: 6.4121 - val_acc: 0.6000\n",
            "Epoch 2/5\n",
            "14010/14010 [==============================] - 4s 292us/step - loss: 6.4899 - acc: 0.5951 - val_loss: 6.4121 - val_acc: 0.6000\n",
            "Epoch 3/5\n",
            "14010/14010 [==============================] - 4s 292us/step - loss: 6.4899 - acc: 0.5951 - val_loss: 6.4121 - val_acc: 0.6000\n",
            "Epoch 4/5\n",
            "14010/14010 [==============================] - 4s 289us/step - loss: 6.4899 - acc: 0.5951 - val_loss: 6.4121 - val_acc: 0.6000\n",
            "Epoch 5/5\n",
            "14010/14010 [==============================] - 4s 291us/step - loss: 6.4899 - acc: 0.5951 - val_loss: 6.4121 - val_acc: 0.6000\n"
          ],
          "name": "stdout"
        }
      ]
    },
    {
      "cell_type": "code",
      "metadata": {
        "id": "VjGbXOYqqppJ",
        "colab_type": "code",
        "outputId": "96af01af-f2de-47c8-94c7-e89d9da5eb77",
        "colab": {
          "base_uri": "https://localhost:8080/",
          "height": 590
        }
      },
      "source": [
        "print(history.history.keys())\n",
        "import matplotlib.pyplot as plt\n",
        "%matplotlib inline \n",
        "# summarize history for accuracy\n",
        "plt.plot(history.history['acc'])\n",
        "plt.plot(history.history['val_acc'])\n",
        "plt.title('model accuracy')\n",
        "plt.ylabel('accuracy')\n",
        "plt.xlabel('epoch')\n",
        "plt.legend(['train', 'test'], loc='upper left')\n",
        "plt.show()\n",
        "# summarize history for loss\n",
        "plt.plot(history.history['loss'])\n",
        "plt.plot(history.history['val_loss'])\n",
        "plt.title('model loss')\n",
        "plt.ylabel('loss')\n",
        "plt.xlabel('epoch')\n",
        "plt.legend(['train', 'test'], loc='upper left')\n",
        "plt.show()"
      ],
      "execution_count": 15,
      "outputs": [
        {
          "output_type": "stream",
          "text": [
            "dict_keys(['val_loss', 'val_acc', 'loss', 'acc'])\n"
          ],
          "name": "stdout"
        },
        {
          "output_type": "display_data",
          "data": {
            "image/png": "[encoded data removed]",
            "text/plain": [
              "<Figure size 432x288 with 1 Axes>"
            ]
          },
          "metadata": {
            "tags": []
          }
        },
        {
          "output_type": "display_data",
          "data": {
            "image/png": "[encoded data removed]",
            "text/plain": [
              "<Figure size 432x288 with 1 Axes>"
            ]
          },
          "metadata": {
            "tags": []
          }
        }
      ]
    },
    {
      "cell_type": "code",
      "metadata": {
        "id": "vA0iOMcqq1Vj",
        "colab_type": "code",
        "outputId": "26d3f57c-7684-4f16-ec6d-82e7f3cf3099",
        "colab": {
          "base_uri": "https://localhost:8080/",
          "height": 51
        }
      },
      "source": [
        "score = model.evaluate([x_test_title, x_test_text], y_test, verbose=0)\n",
        "print('Test loss:', score[0])\n",
        "print('Test accuracy:', score[1])"
      ],
      "execution_count": 16,
      "outputs": [
        {
          "output_type": "stream",
          "text": [
            "Test loss: 6.489901295974372\n",
            "Test accuracy: 0.5951463240585014\n"
          ],
          "name": "stdout"
        }
      ]
    },
    {
      "cell_type": "code",
      "metadata": {
        "id": "dy3XjKP6wR7E",
        "colab_type": "code",
        "colab": {
          "base_uri": "https://localhost:8080/",
          "height": 1000
        },
        "outputId": "59cc13b6-d39f-4239-be45-aaf91dc216d1"
      },
      "source": [
        "convs = []\n",
        "filter_sizes = [3,4,5]\n",
        "\n",
        "sequence_input = Input(shape=(MAX_SEQUENCE_LENGTH_TEXT,), dtype='int32')\n",
        "embedded_sequences = embedding_layer_text(sequence_input)\n",
        "\n",
        "for fsz in filter_sizes:\n",
        "    text_1_conv = Conv1D(nb_filter=42,filter_length=fsz, activation='relu')(embedded_sequences)\n",
        "    text_1_maxpool = MaxPooling1D(5)(text_1_conv)\n",
        "    convs.append(text_1_maxpool)\n",
        "    \n",
        "l_merge = Concatenate(axis=1)(convs)\n",
        "l_cov1= Conv1D(filters=128, kernel_size=5, activation='relu')(l_merge)\n",
        "l_pool1 = MaxPooling1D(5)(l_cov1)\n",
        "l_cov2 = Conv1D(filters=128, kernel_size=5, activation='relu')(l_pool1)\n",
        "l_pool2 = MaxPooling1D(30)(l_cov2)\n",
        "l_flat = Flatten()(l_pool2)\n",
        "dense_1 = Dense(128, activation='relu')(l_flat)\n",
        "dropout_1 = Dropout(0.110)(dense_1)\n",
        "dense_2 = Dense(128, activation='relu')(dropout_1)\n",
        "dropout_2 = Dropout(0.159)(dense_2)\n",
        "dense_3 = Dense(128, activation='relu')(dropout_2)\n",
        "dropout_3 = Dropout(0.159)(dense_3)\n",
        "dense_out = Dense(2, activation='softmax')(dropout_3)\n",
        "\n",
        "model_extended = Model(sequence_input, dense_out)\n",
        "\n",
        "# gradient descent\n",
        "sgd = SGD(lr=0.240, decay=1e-6, momentum=0.303, nesterov=True)\n",
        "# configure the learning process of the model\n",
        "model_extended.compile(loss='binary_crossentropy', optimizer=sgd, metrics=['accuracy'])\n",
        "\n",
        "#model_extended.compile(loss='categorical_crossentropy',\n",
        "#             optimizer='adadelta',\n",
        "#            metrics=['acc'])\n",
        "\n",
        "print(\"Fitting a more complex convolutional neural network model\")\n",
        "model_extended.summary()\n",
        "history_extended = model_extended.fit(x_train_text, y_train, validation_data=(x_val_text, y_val),\n",
        "          epochs=5, batch_size=50)"
      ],
      "execution_count": 18,
      "outputs": [
        {
          "output_type": "stream",
          "text": [
            "/usr/local/lib/python3.6/dist-packages/ipykernel_launcher.py:8: UserWarning: Update your `Conv1D` call to the Keras 2 API: `Conv1D(activation=\"relu\", filters=42, kernel_size=3)`\n",
            "  \n",
            "/usr/local/lib/python3.6/dist-packages/ipykernel_launcher.py:8: UserWarning: Update your `Conv1D` call to the Keras 2 API: `Conv1D(activation=\"relu\", filters=42, kernel_size=4)`\n",
            "  \n",
            "/usr/local/lib/python3.6/dist-packages/ipykernel_launcher.py:8: UserWarning: Update your `Conv1D` call to the Keras 2 API: `Conv1D(activation=\"relu\", filters=42, kernel_size=5)`\n",
            "  \n"
          ],
          "name": "stderr"
        },
        {
          "output_type": "stream",
          "text": [
            "Fitting a more complex convolutional neural network model\n",
            "Model: \"model_3\"\n",
            "__________________________________________________________________________________________________\n",
            "Layer (type)                    Output Shape         Param #     Connected to                     \n",
            "==================================================================================================\n",
            "input_4 (InputLayer)            (None, 1606)         0                                            \n",
            "__________________________________________________________________________________________________\n",
            "embedding_2 (Embedding)         (None, 1606, 100)    14067500    input_4[0][0]                    \n",
            "__________________________________________________________________________________________________\n",
            "conv1d_8 (Conv1D)               (None, 1604, 42)     12642       embedding_2[2][0]                \n",
            "__________________________________________________________________________________________________\n",
            "conv1d_9 (Conv1D)               (None, 1603, 42)     16842       embedding_2[2][0]                \n",
            "__________________________________________________________________________________________________\n",
            "conv1d_10 (Conv1D)              (None, 1602, 42)     21042       embedding_2[2][0]                \n",
            "__________________________________________________________________________________________________\n",
            "max_pooling1d_8 (MaxPooling1D)  (None, 320, 42)      0           conv1d_8[0][0]                   \n",
            "__________________________________________________________________________________________________\n",
            "max_pooling1d_9 (MaxPooling1D)  (None, 320, 42)      0           conv1d_9[0][0]                   \n",
            "__________________________________________________________________________________________________\n",
            "max_pooling1d_10 (MaxPooling1D) (None, 320, 42)      0           conv1d_10[0][0]                  \n",
            "__________________________________________________________________________________________________\n",
            "concatenate_3 (Concatenate)     (None, 960, 42)      0           max_pooling1d_8[0][0]            \n",
            "                                                                 max_pooling1d_9[0][0]            \n",
            "                                                                 max_pooling1d_10[0][0]           \n",
            "__________________________________________________________________________________________________\n",
            "conv1d_11 (Conv1D)              (None, 956, 128)     27008       concatenate_3[0][0]              \n",
            "__________________________________________________________________________________________________\n",
            "max_pooling1d_11 (MaxPooling1D) (None, 191, 128)     0           conv1d_11[0][0]                  \n",
            "__________________________________________________________________________________________________\n",
            "conv1d_12 (Conv1D)              (None, 187, 128)     82048       max_pooling1d_11[0][0]           \n",
            "__________________________________________________________________________________________________\n",
            "max_pooling1d_12 (MaxPooling1D) (None, 6, 128)       0           conv1d_12[0][0]                  \n",
            "__________________________________________________________________________________________________\n",
            "flatten_4 (Flatten)             (None, 768)          0           max_pooling1d_12[0][0]           \n",
            "__________________________________________________________________________________________________\n",
            "dense_10 (Dense)                (None, 128)          98432       flatten_4[0][0]                  \n",
            "__________________________________________________________________________________________________\n",
            "dropout_6 (Dropout)             (None, 128)          0           dense_10[0][0]                   \n",
            "__________________________________________________________________________________________________\n",
            "dense_11 (Dense)                (None, 128)          16512       dropout_6[0][0]                  \n",
            "__________________________________________________________________________________________________\n",
            "dropout_7 (Dropout)             (None, 128)          0           dense_11[0][0]                   \n",
            "__________________________________________________________________________________________________\n",
            "dense_12 (Dense)                (None, 128)          16512       dropout_7[0][0]                  \n",
            "__________________________________________________________________________________________________\n",
            "dropout_8 (Dropout)             (None, 128)          0           dense_12[0][0]                   \n",
            "__________________________________________________________________________________________________\n",
            "dense_13 (Dense)                (None, 2)            258         dropout_8[0][0]                  \n",
            "==================================================================================================\n",
            "Total params: 14,358,796\n",
            "Trainable params: 14,358,796\n",
            "Non-trainable params: 0\n",
            "__________________________________________________________________________________________________\n",
            "Train on 14010 samples, validate on 6005 samples\n",
            "Epoch 1/5\n",
            "14010/14010 [==============================] - 9s 607us/step - loss: 0.6552 - acc: 0.6298 - val_loss: 0.6468 - val_acc: 0.5774\n",
            "Epoch 2/5\n",
            "14010/14010 [==============================] - 8s 539us/step - loss: 0.4090 - acc: 0.8106 - val_loss: 0.3395 - val_acc: 0.8614\n",
            "Epoch 3/5\n",
            "14010/14010 [==============================] - 8s 536us/step - loss: 0.2023 - acc: 0.9213 - val_loss: 0.2048 - val_acc: 0.9202\n",
            "Epoch 4/5\n",
            "14010/14010 [==============================] - 8s 546us/step - loss: 0.1332 - acc: 0.9488 - val_loss: 0.1923 - val_acc: 0.9332\n",
            "Epoch 5/5\n",
            "14010/14010 [==============================] - 8s 544us/step - loss: 0.0961 - acc: 0.9642 - val_loss: 0.1267 - val_acc: 0.9537\n"
          ],
          "name": "stdout"
        }
      ]
    },
    {
      "cell_type": "code",
      "metadata": {
        "id": "1LSLdARpw-mB",
        "colab_type": "code",
        "colab": {
          "base_uri": "https://localhost:8080/",
          "height": 590
        },
        "outputId": "71d5ded2-9e56-47ec-fd20-8335a0e16702"
      },
      "source": [
        "print(history_extended.history.keys())\n",
        "import matplotlib.pyplot as plt\n",
        "%matplotlib inline \n",
        "# summarize history for accuracy\n",
        "plt.plot(history_extended.history['acc'])\n",
        "plt.plot(history_extended.history['val_acc'])\n",
        "plt.title('model accuracy')\n",
        "plt.ylabel('accuracy')\n",
        "plt.xlabel('epoch')\n",
        "plt.legend(['train', 'test'], loc='upper left')\n",
        "plt.show()\n",
        "# summarize history for loss\n",
        "plt.plot(history_extended.history['loss'])\n",
        "plt.plot(history_extended.history['val_loss'])\n",
        "plt.title('model loss')\n",
        "plt.ylabel('loss')\n",
        "plt.xlabel('epoch')\n",
        "plt.legend(['train', 'test'], loc='upper left')\n",
        "plt.show()"
      ],
      "execution_count": 19,
      "outputs": [
        {
          "output_type": "stream",
          "text": [
            "dict_keys(['val_loss', 'val_acc', 'loss', 'acc'])\n"
          ],
          "name": "stdout"
        },
        {
          "output_type": "display_data",
          "data": {
            "image/png": "[encoded data removed]",
            "text/plain": [
              "<Figure size 432x288 with 1 Axes>"
            ]
          },
          "metadata": {
            "tags": []
          }
        },
        {
          "output_type": "display_data",
          "data": {
            "image/png": "[encoded data removed]",
            "text/plain": [
              "<Figure size 432x288 with 1 Axes>"
            ]
          },
          "metadata": {
            "tags": []
          }
        }
      ]
    },
    {
      "cell_type": "code",
      "metadata": {
        "id": "3HoVHZRyxALk",
        "colab_type": "code",
        "colab": {
          "base_uri": "https://localhost:8080/",
          "height": 51
        },
        "outputId": "c4fd6c98-8031-4580-f8f8-6ed9b4c495b0"
      },
      "source": [
        "score = model_extended.evaluate(x_test_text, y_test, verbose=0)\n",
        "print('Test loss:', score[0])\n",
        "print('Test accuracy:', score[1])"
      ],
      "execution_count": 22,
      "outputs": [
        {
          "output_type": "stream",
          "text": [
            "Test loss: 0.06487473701575583\n",
            "Test accuracy: 0.9751605995291901\n"
          ],
          "name": "stdout"
        }
      ]
    }
  ]
}