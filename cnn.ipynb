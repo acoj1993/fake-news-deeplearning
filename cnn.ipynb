{
  "nbformat": 4,
  "nbformat_minor": 0,
  "metadata": {
    "colab": {
      "name": "Untitled2.ipynb",
      "provenance": [],
      "include_colab_link": true
    },
    "kernelspec": {
      "name": "python3",
      "display_name": "Python 3"
    },
    "accelerator": "GPU"
  },
  "cells": [
    {
      "cell_type": "markdown",
      "metadata": {
        "id": "view-in-github",
        "colab_type": "text"
      },
      "source": [
        "<a href=\"https://colab.research.google.com/github/acoj1993/fake-news-deeplearning/blob/master/cnn.ipynb\" target=\"_parent\"><img src=\"https://colab.research.google.com/assets/colab-badge.svg\" alt=\"Open In Colab\"/></a>"
      ]
    },
    {
      "cell_type": "code",
      "metadata": {
        "id": "Y137M2z5TNUm",
        "colab_type": "code",
        "colab": {
          "base_uri": "https://localhost:8080/",
          "height": 554
        },
        "outputId": "b735d55f-dc9c-4ccb-d00a-ccc03bf3682e"
      },
      "source": [
        "import keras\n",
        "from tensorflow.python.client import device_lib\n",
        "\n",
        "print(device_lib.list_local_devices())\n",
        "import numpy as np\n",
        "import pandas as pd\n",
        "from collections import defaultdict\n",
        "import re\n",
        "\n",
        "\n",
        "import sys\n",
        "import os\n",
        "\n",
        "from keras.preprocessing.text import Tokenizer\n",
        "from keras.preprocessing.sequence import pad_sequences\n",
        "from keras.optimizers import SGD\n",
        "from keras.utils.np_utils import to_categorical\n",
        "\n",
        "from keras.layers import Embedding\n",
        "from keras.layers import Dense, Input, Flatten\n",
        "from keras.layers import Conv1D, MaxPooling1D, Embedding, Concatenate, Dropout\n",
        "from keras.models import Model\n",
        "\n",
        "MAX_SEQUENCE_LENGTH_TEXT = 1606\n",
        "MAX_SEQUENCE_LENGTH_TITLE = 13\n",
        "MAX_NB_WORDS = 200000\n",
        "EMBEDDING_DIM = 100\n",
        "VALIDATION_SPLIT = 0.3"
      ],
      "execution_count": 37,
      "outputs": [
        {
          "output_type": "stream",
          "text": [
            "[name: \"/device:CPU:0\"\n",
            "device_type: \"CPU\"\n",
            "memory_limit: 268435456\n",
            "locality {\n",
            "}\n",
            "incarnation: 14478529621421160950\n",
            ", name: \"/device:XLA_CPU:0\"\n",
            "device_type: \"XLA_CPU\"\n",
            "memory_limit: 17179869184\n",
            "locality {\n",
            "}\n",
            "incarnation: 16632982605303537360\n",
            "physical_device_desc: \"device: XLA_CPU device\"\n",
            ", name: \"/device:XLA_GPU:0\"\n",
            "device_type: \"XLA_GPU\"\n",
            "memory_limit: 17179869184\n",
            "locality {\n",
            "}\n",
            "incarnation: 6127811968989464819\n",
            "physical_device_desc: \"device: XLA_GPU device\"\n",
            ", name: \"/device:GPU:0\"\n",
            "device_type: \"GPU\"\n",
            "memory_limit: 11330115994\n",
            "locality {\n",
            "  bus_id: 1\n",
            "  links {\n",
            "  }\n",
            "}\n",
            "incarnation: 3268348723721988045\n",
            "physical_device_desc: \"device: 0, name: Tesla K80, pci bus id: 0000:00:04.0, compute capability: 3.7\"\n",
            "]\n"
          ],
          "name": "stdout"
        }
      ]
    },
    {
      "cell_type": "code",
      "metadata": {
        "id": "8Tv2S_PZUp-P",
        "colab_type": "code",
        "colab": {}
      },
      "source": [
        "def clean_str(string):\n",
        "    \"\"\"\n",
        "    Cleaning of dataset\n",
        "    \"\"\"\n",
        "    string = re.sub(r\"\\\\\", \"\", string)    \n",
        "    string = re.sub(r\"\\'\", \"\", string)    \n",
        "    string = re.sub(r\"\\\"\", \"\", string)    \n",
        "    return string.strip().lower()"
      ],
      "execution_count": 0,
      "outputs": []
    },
    {
      "cell_type": "code",
      "metadata": {
        "id": "Zq1I5AKiU74P",
        "colab_type": "code",
        "colab": {
          "base_uri": "https://localhost:8080/",
          "height": 123
        },
        "outputId": "364c674b-95bc-47e9-b8d9-1c3fc0250235"
      },
      "source": [
        "from google.colab import drive\n",
        "drive.mount('/content/drive')"
      ],
      "execution_count": 5,
      "outputs": [
        {
          "output_type": "stream",
          "text": [
            "Go to this URL in a browser: https://accounts.google.com/o/oauth2/auth?client_id=947318989803-6bn6qk8qdgf4n4g3pfee6491hc0brc4i.apps.googleusercontent.com&redirect_uri=urn%3aietf%3awg%3aoauth%3a2.0%3aoob&response_type=code&scope=email%20https%3a%2f%2fwww.googleapis.com%2fauth%2fdocs.test%20https%3a%2f%2fwww.googleapis.com%2fauth%2fdrive%20https%3a%2f%2fwww.googleapis.com%2fauth%2fdrive.photos.readonly%20https%3a%2f%2fwww.googleapis.com%2fauth%2fpeopleapi.readonly\n",
            "\n",
            "Enter your authorization code:\n",
            "··········\n",
            "Mounted at /content/drive\n"
          ],
          "name": "stdout"
        }
      ]
    },
    {
      "cell_type": "code",
      "metadata": {
        "id": "K9sn-BWIUvH0",
        "colab_type": "code",
        "colab": {
          "base_uri": "https://localhost:8080/",
          "height": 34
        },
        "outputId": "7e54494e-1fe3-479e-cf10-3d74de4bc498"
      },
      "source": [
        "data_train = pd.read_csv('/content/drive/My Drive/all_data.csv')\n",
        "#data_train.text[1]\n",
        "data_train.title[1]\n",
        "#data_train.type[1]"
      ],
      "execution_count": 29,
      "outputs": [
        {
          "output_type": "execute_result",
          "data": {
            "text/plain": [
              "'Trump Foundation Tells New York It Has Stopped Soliciting After State Order'"
            ]
          },
          "metadata": {
            "tags": []
          },
          "execution_count": 29
        }
      ]
    },
    {
      "cell_type": "code",
      "metadata": {
        "id": "jETLAcqcVQM3",
        "colab_type": "code",
        "colab": {
          "base_uri": "https://localhost:8080/",
          "height": 381
        },
        "outputId": "dc48571c-53b0-472f-88b7-0d8b4a540d53"
      },
      "source": [
        "# Input Data preprocessing\n",
        "data_train = pd.read_csv('/content/drive/My Drive/all_data.csv')\n",
        "print(data_train.columns)\n",
        "print('What the raw input data looks like:')\n",
        "print(data_train[0:5])\n",
        "\n",
        "# transorm strings fake and real to 0 and 1, respectively\n",
        "data_train['type'] = data_train['type'].replace('fake', 0)\n",
        "data_train['type'] = data_train['type'].replace('real', 1)\n",
        "\n",
        "titles = []\n",
        "texts = []\n",
        "labels = []\n",
        "\n",
        "for i in range(data_train.text.shape[0]):\n",
        "    # append title\n",
        "    title = data_train.title[i]\n",
        "    titles.append(title)\n",
        "    # append text\n",
        "    text = data_train.text[i]\n",
        "    texts.append(text)\n",
        "    # append label\n",
        "    label = data_train.type[i]\n",
        "    labels.append(label)"
      ],
      "execution_count": 30,
      "outputs": [
        {
          "output_type": "stream",
          "text": [
            "Index(['Unnamed: 0', 'Unnamed: 0.1', 'author', 'comments', 'country',\n",
            "       'crawled', 'domain_rank', 'id', 'language', 'likes', 'main_img_url',\n",
            "       'ord_in_thread', 'participants_count', 'published', 'replies_count',\n",
            "       'shares', 'site_url', 'spam_score', 'text', 'thread_title', 'title',\n",
            "       'type', 'uuid', 'caps_title', 'caps_thread', 'caps_text', 'title_len',\n",
            "       'thread_len', 'text_len', 'excl_title', 'excl_thread', 'excl_text',\n",
            "       'first_title', 'first_thread', 'first_text', 'second_title',\n",
            "       'second_thread', 'second_text', 'third_title', 'third_thread',\n",
            "       'third_text', 'anger', 'anticipation', 'disgust', 'fear', 'joy',\n",
            "       'sadness', 'surprise', 'trust', 'negative', 'positive', 'first_all',\n",
            "       'second_all', 'third_all'],\n",
            "      dtype='object')\n",
            "What the raw input data looks like:\n",
            "   Unnamed: 0  Unnamed: 0.1  ... second_all  third_all\n",
            "0           1           NaN  ...        150         45\n",
            "1           2           NaN  ...         38         28\n",
            "2           3           NaN  ...        168         68\n",
            "3           4           NaN  ...        136         71\n",
            "4           5           NaN  ...         82         28\n",
            "\n",
            "[5 rows x 54 columns]\n"
          ],
          "name": "stdout"
        }
      ]
    },
    {
      "cell_type": "code",
      "metadata": {
        "id": "nQcjk05hWNLK",
        "colab_type": "code",
        "colab": {
          "base_uri": "https://localhost:8080/",
          "height": 34
        },
        "outputId": "d4edbe98-2920-4506-f504-35a0f1a7ff8a"
      },
      "source": [
        "# tokenaize title\n",
        "tokenizer_title = Tokenizer(num_words=MAX_NB_WORDS)\n",
        "tokenizer_title.fit_on_texts(titles)\n",
        "title_sequences = tokenizer_title.texts_to_sequences(titles)\n",
        "\n",
        "word_index_title = tokenizer_title.word_index\n",
        "print('Found %s unique tokens in title.' % len(word_index_title)) "
      ],
      "execution_count": 31,
      "outputs": [
        {
          "output_type": "stream",
          "text": [
            "Found 19928 unique tokens in title.\n"
          ],
          "name": "stdout"
        }
      ]
    },
    {
      "cell_type": "code",
      "metadata": {
        "id": "f9qIEyNFWRqP",
        "colab_type": "code",
        "colab": {
          "base_uri": "https://localhost:8080/",
          "height": 34
        },
        "outputId": "13c67519-4bc6-477b-8cf5-1fb25d1fb7d7"
      },
      "source": [
        "# tokenaize text\n",
        "tokenizer_text = Tokenizer(num_words=MAX_NB_WORDS)\n",
        "tokenizer_text.fit_on_texts(texts)\n",
        "text_sequences = tokenizer_text.texts_to_sequences(texts)\n",
        "\n",
        "word_index_text = tokenizer_text.word_index\n",
        "print('Found %s unique tokens.' % len(word_index_text))"
      ],
      "execution_count": 32,
      "outputs": [
        {
          "output_type": "stream",
          "text": [
            "Found 140674 unique tokens.\n"
          ],
          "name": "stdout"
        }
      ]
    },
    {
      "cell_type": "code",
      "metadata": {
        "id": "7LBH9PwcWcON",
        "colab_type": "code",
        "colab": {
          "base_uri": "https://localhost:8080/",
          "height": 69
        },
        "outputId": "b080c1e6-a7db-4763-cedf-3d56b953aa8f"
      },
      "source": [
        "title_data = pad_sequences(title_sequences, maxlen=MAX_SEQUENCE_LENGTH_TITLE)\n",
        "text_data = pad_sequences(text_sequences, maxlen=MAX_SEQUENCE_LENGTH_TEXT)\n",
        "labels = to_categorical(np.asarray(labels),num_classes = 2)\n",
        "print('Shape of title data:', title_data.shape)\n",
        "print('Shape of text data:', text_data.shape)\n",
        "print('Shape of label:', labels.shape)"
      ],
      "execution_count": 33,
      "outputs": [
        {
          "output_type": "stream",
          "text": [
            "Shape of title data: (20015, 13)\n",
            "Shape of text data: (20015, 1606)\n",
            "Shape of label: (20015, 2)\n"
          ],
          "name": "stdout"
        }
      ]
    },
    {
      "cell_type": "code",
      "metadata": {
        "id": "vFV6qPTeW4mH",
        "colab_type": "code",
        "colab": {
          "base_uri": "https://localhost:8080/",
          "height": 121
        },
        "outputId": "cea8308e-49b0-4d47-c984-110e58bc7b94"
      },
      "source": [
        "# Train test validation Split\n",
        "from sklearn.model_selection import train_test_split\n",
        "\n",
        "indices = np.arange(title_data.shape[0])\n",
        "np.random.shuffle(indices)\n",
        "\n",
        "title_data = title_data[indices]\n",
        "text_data = text_data[indices]\n",
        "labels = labels[indices]\n",
        "\n",
        "x_train_title, x_test_title, y_train, y_test = train_test_split( title_data, labels, test_size=0.20, random_state=42)\n",
        "x_test_title, x_val_title, y_test, y_val = train_test_split( title_data, labels, test_size=0.50, random_state=42)\n",
        "print('Size of train, validation, test:', len(y_train), len(y_val), len(y_test))\n",
        "\n",
        "x_train_text, x_test_text, y_train, y_test = train_test_split( text_data, labels, test_size=0.20, random_state=42)\n",
        "x_test_text, x_val_text, y_test, y_val = train_test_split( text_data, labels, test_size=0.50, random_state=42)\n",
        "print('Size of train, validation, test:', len(y_train), len(y_val), len(y_test))\n",
        "\n",
        "print('real & fake news in train,valt,test:')\n",
        "print(y_train.sum(axis=0))\n",
        "print(y_val.sum(axis=0))\n",
        "print(y_test.sum(axis=0))"
      ],
      "execution_count": 34,
      "outputs": [
        {
          "output_type": "stream",
          "text": [
            "Size of train, validation, test: 16012 10008 10007\n",
            "Size of train, validation, test: 16012 10008 10007\n",
            "real & fake news in train,valt,test:\n",
            "[9594. 6418.]\n",
            "[5947. 4061.]\n",
            "[5994. 4013.]\n"
          ],
          "name": "stdout"
        }
      ]
    },
    {
      "cell_type": "code",
      "metadata": {
        "id": "KhFL_OZ5a5wE",
        "colab_type": "code",
        "colab": {
          "base_uri": "https://localhost:8080/",
          "height": 363
        },
        "outputId": "1389a1d9-c8de-4931-ced9-a85c5fe0050a"
      },
      "source": [
        "!wget http://nlp.stanford.edu/data/glove.6B.zip"
      ],
      "execution_count": 17,
      "outputs": [
        {
          "output_type": "stream",
          "text": [
            "--2019-11-30 13:06:37--  http://nlp.stanford.edu/data/glove.6B.zip\n",
            "Resolving nlp.stanford.edu (nlp.stanford.edu)... 171.64.67.140\n",
            "Connecting to nlp.stanford.edu (nlp.stanford.edu)|171.64.67.140|:80... connected.\n",
            "HTTP request sent, awaiting response... 302 Found\n",
            "Location: https://nlp.stanford.edu/data/glove.6B.zip [following]\n",
            "--2019-11-30 13:06:37--  https://nlp.stanford.edu/data/glove.6B.zip\n",
            "Connecting to nlp.stanford.edu (nlp.stanford.edu)|171.64.67.140|:443... connected.\n",
            "HTTP request sent, awaiting response... 301 Moved Permanently\n",
            "Location: http://downloads.cs.stanford.edu/nlp/data/glove.6B.zip [following]\n",
            "--2019-11-30 13:06:37--  http://downloads.cs.stanford.edu/nlp/data/glove.6B.zip\n",
            "Resolving downloads.cs.stanford.edu (downloads.cs.stanford.edu)... 171.64.64.22\n",
            "Connecting to downloads.cs.stanford.edu (downloads.cs.stanford.edu)|171.64.64.22|:80... connected.\n",
            "HTTP request sent, awaiting response... 200 OK\n",
            "Length: 862182613 (822M) [application/zip]\n",
            "Saving to: ‘glove.6B.zip’\n",
            "\n",
            "glove.6B.zip        100%[===================>] 822.24M  2.03MB/s    in 6m 27s  \n",
            "\n",
            "2019-11-30 13:13:05 (2.12 MB/s) - ‘glove.6B.zip’ saved [862182613/862182613]\n",
            "\n"
          ],
          "name": "stdout"
        }
      ]
    },
    {
      "cell_type": "code",
      "metadata": {
        "id": "r6Z9aZ4Na90N",
        "colab_type": "code",
        "colab": {
          "base_uri": "https://localhost:8080/",
          "height": 103
        },
        "outputId": "4ada5e90-ee4c-42e3-de7c-6279ad202b49"
      },
      "source": [
        "!unzip glove*.zip"
      ],
      "execution_count": 18,
      "outputs": [
        {
          "output_type": "stream",
          "text": [
            "Archive:  glove.6B.zip\n",
            "  inflating: glove.6B.50d.txt        \n",
            "  inflating: glove.6B.100d.txt       \n",
            "  inflating: glove.6B.200d.txt       \n",
            "  inflating: glove.6B.300d.txt       \n"
          ],
          "name": "stdout"
        }
      ]
    },
    {
      "cell_type": "code",
      "metadata": {
        "id": "Rnj7dlqra_vo",
        "colab_type": "code",
        "colab": {
          "base_uri": "https://localhost:8080/",
          "height": 69
        },
        "outputId": "51a6b587-e380-4b1d-9a30-3caf0922b4c2"
      },
      "source": [
        "!ls\n",
        "!pwd"
      ],
      "execution_count": 19,
      "outputs": [
        {
          "output_type": "stream",
          "text": [
            "drive\t\t   glove.6B.200d.txt  glove.6B.50d.txt\tsample_data\n",
            "glove.6B.100d.txt  glove.6B.300d.txt  glove.6B.zip\n",
            "/content\n"
          ],
          "name": "stdout"
        }
      ]
    },
    {
      "cell_type": "code",
      "metadata": {
        "id": "rFnqbrh7bFJu",
        "colab_type": "code",
        "colab": {
          "base_uri": "https://localhost:8080/",
          "height": 34
        },
        "outputId": "849b8d02-d0c6-4164-e97c-8947fe4311c4"
      },
      "source": [
        "#Using Pre-trained word embeddings\n",
        "GLOVE_DIR = \"/content\" \n",
        "embeddings_index = {}\n",
        "f = open(os.path.join(GLOVE_DIR, 'glove.6B.100d.txt'), encoding=\"utf8\")\n",
        "for line in f:\n",
        "    values = line.split()\n",
        "    word = values[0]\n",
        "    coefs = np.asarray(values[1:], dtype='float32')\n",
        "    embeddings_index[word] = coefs\n",
        "f.close()\n",
        "\n",
        "print('Total %s word vectors in Glove.' % len(embeddings_index))\n",
        "\n",
        "embedding_matrix_title = np.random.random((len(word_index_title) + 1, EMBEDDING_DIM))\n",
        "for word, i in word_index_title.items():\n",
        "    embedding_vector = embeddings_index.get(word)\n",
        "    if embedding_vector is not None:\n",
        "        # words not found in embedding index will be all-zeros.\n",
        "        embedding_matrix_title[i] = embedding_vector\n",
        "        \n",
        "embedding_layer_title = Embedding(len(word_index_title) + 1,\n",
        "                            EMBEDDING_DIM,\n",
        "                            weights=[embedding_matrix_title],\n",
        "                            input_length=MAX_SEQUENCE_LENGTH_TITLE)\n",
        "\n",
        "embedding_matrix_text = np.random.random((len(word_index_text) + 1, EMBEDDING_DIM))\n",
        "for word, i in word_index_text.items():\n",
        "    embedding_vector = embeddings_index.get(word)\n",
        "    if embedding_vector is not None:\n",
        "        # words not found in embedding index will be all-zeros.\n",
        "        embedding_matrix_text[i] = embedding_vector\n",
        "        \n",
        "embedding_layer_text = Embedding(len(word_index_text) + 1,\n",
        "                            EMBEDDING_DIM,\n",
        "                            weights=[embedding_matrix_text],\n",
        "                            input_length=MAX_SEQUENCE_LENGTH_TEXT)"
      ],
      "execution_count": 35,
      "outputs": [
        {
          "output_type": "stream",
          "text": [
            "Total 400000 word vectors in Glove.\n"
          ],
          "name": "stdout"
        }
      ]
    },
    {
      "cell_type": "code",
      "metadata": {
        "id": "l0azzD4-cykN",
        "colab_type": "code",
        "colab": {
          "base_uri": "https://localhost:8080/",
          "height": 1000
        },
        "outputId": "b8624888-5a4d-477e-ae4f-ecff58d49344"
      },
      "source": [
        "# title branch\n",
        "sequence_input_title = Input(shape=(MAX_SEQUENCE_LENGTH_TITLE,), dtype='int32')\n",
        "embedded_sequences_title = embedding_layer_title(sequence_input_title)\n",
        "title_conv = Conv1D(nb_filter=8, kernel_size=4, activation='relu')(embedded_sequences_title)\n",
        "title_maxpool = MaxPooling1D(4)(title_conv)\n",
        "title_flat = Flatten()(title_maxpool)\n",
        "title_dense = Dense(6, activation='relu')(title_flat)\n",
        "\n",
        "# text branch\n",
        "sequence_input_text = Input(shape=(MAX_SEQUENCE_LENGTH_TEXT,), dtype='int32')\n",
        "embedded_sequences_text = embedding_layer_text(sequence_input_text)\n",
        "text_conv = Conv1D(nb_filter=42, kernel_size=4, activation='relu')(embedded_sequences_text)\n",
        "text_maxpool = MaxPooling1D(4)(text_conv)\n",
        "text_flat = Flatten()(text_maxpool)\n",
        "text_dense = Dense(34, activation='relu')(text_flat)\n",
        "\n",
        "# concat to one model\n",
        "branches = []\n",
        "branches.append(title_dense)\n",
        "branches.append(text_dense)\n",
        "\n",
        "merge = Concatenate(axis=1)(branches)\n",
        "dense_1 = Dense(128, activation='relu')(merge)\n",
        "dropout_1 = Dropout(0.110)(dense_1)\n",
        "dense_2 = Dense(128, activation='relu')(dropout_1)\n",
        "dropout_2 = Dropout(0.159)(dense_2)\n",
        "dense_out = Dense(2, activation='softmax')(dropout_2)\n",
        "\n",
        "# cnn Model\n",
        "model = Model([sequence_input_title, sequence_input_text], dense_out)\n",
        "\n",
        "# gradient descent\n",
        "sgd = SGD(lr=0.240, decay=1e-6, momentum=0.303, nesterov=True)\n",
        "# configure the learning process of the model\n",
        "model.compile(loss='binary_crossentropy', optimizer=sgd, metrics=['accuracy'])\n",
        "\n",
        "print(\"Fitting a convolutional neural network model\")\n",
        "model.summary()\n",
        "\n",
        "history = model.fit([x_train_title, x_train_text], y_train, validation_data=([x_val_title, x_val_text], y_val),\n",
        "          epochs=5, batch_size=50)\n"
      ],
      "execution_count": 43,
      "outputs": [
        {
          "output_type": "stream",
          "text": [
            "/usr/local/lib/python3.6/dist-packages/ipykernel_launcher.py:3: UserWarning: Update your `Conv1D` call to the Keras 2 API: `Conv1D(kernel_size=4, activation=\"relu\", filters=8)`\n",
            "  This is separate from the ipykernel package so we can avoid doing imports until\n",
            "/usr/local/lib/python3.6/dist-packages/ipykernel_launcher.py:11: UserWarning: Update your `Conv1D` call to the Keras 2 API: `Conv1D(kernel_size=4, activation=\"relu\", filters=42)`\n",
            "  # This is added back by InteractiveShellApp.init_path()\n"
          ],
          "name": "stderr"
        },
        {
          "output_type": "stream",
          "text": [
            "Fitting a convolutional neural network model\n",
            "Model: \"model_4\"\n",
            "__________________________________________________________________________________________________\n",
            "Layer (type)                    Output Shape         Param #     Connected to                     \n",
            "==================================================================================================\n",
            "input_10 (InputLayer)           (None, 13)           0                                            \n",
            "__________________________________________________________________________________________________\n",
            "input_11 (InputLayer)           (None, 1606)         0                                            \n",
            "__________________________________________________________________________________________________\n",
            "embedding_3 (Embedding)         (None, 13, 100)      1992900     input_10[0][0]                   \n",
            "__________________________________________________________________________________________________\n",
            "embedding_4 (Embedding)         (None, 1606, 100)    14067500    input_11[0][0]                   \n",
            "__________________________________________________________________________________________________\n",
            "conv1d_9 (Conv1D)               (None, 10, 8)        3208        embedding_3[3][0]                \n",
            "__________________________________________________________________________________________________\n",
            "conv1d_10 (Conv1D)              (None, 1603, 42)     16842       embedding_4[3][0]                \n",
            "__________________________________________________________________________________________________\n",
            "max_pooling1d_9 (MaxPooling1D)  (None, 2, 8)         0           conv1d_9[0][0]                   \n",
            "__________________________________________________________________________________________________\n",
            "max_pooling1d_10 (MaxPooling1D) (None, 400, 42)      0           conv1d_10[0][0]                  \n",
            "__________________________________________________________________________________________________\n",
            "flatten_9 (Flatten)             (None, 16)           0           max_pooling1d_9[0][0]            \n",
            "__________________________________________________________________________________________________\n",
            "flatten_10 (Flatten)            (None, 16800)        0           max_pooling1d_10[0][0]           \n",
            "__________________________________________________________________________________________________\n",
            "dense_20 (Dense)                (None, 6)            102         flatten_9[0][0]                  \n",
            "__________________________________________________________________________________________________\n",
            "dense_21 (Dense)                (None, 34)           571234      flatten_10[0][0]                 \n",
            "__________________________________________________________________________________________________\n",
            "concatenate_5 (Concatenate)     (None, 40)           0           dense_20[0][0]                   \n",
            "                                                                 dense_21[0][0]                   \n",
            "__________________________________________________________________________________________________\n",
            "dense_22 (Dense)                (None, 128)          5248        concatenate_5[0][0]              \n",
            "__________________________________________________________________________________________________\n",
            "dropout_9 (Dropout)             (None, 128)          0           dense_22[0][0]                   \n",
            "__________________________________________________________________________________________________\n",
            "dense_23 (Dense)                (None, 128)          16512       dropout_9[0][0]                  \n",
            "__________________________________________________________________________________________________\n",
            "dropout_10 (Dropout)            (None, 128)          0           dense_23[0][0]                   \n",
            "__________________________________________________________________________________________________\n",
            "dense_24 (Dense)                (None, 2)            258         dropout_10[0][0]                 \n",
            "==================================================================================================\n",
            "Total params: 16,673,804\n",
            "Trainable params: 16,673,804\n",
            "Non-trainable params: 0\n",
            "__________________________________________________________________________________________________\n",
            "Train on 16012 samples, validate on 10008 samples\n",
            "Epoch 1/5\n",
            "16012/16012 [==============================] - 13s 832us/step - loss: 0.5315 - acc: 0.7405 - val_loss: 0.4254 - val_acc: 0.8007\n",
            "Epoch 2/5\n",
            "16012/16012 [==============================] - 12s 759us/step - loss: 0.3103 - acc: 0.8654 - val_loss: 0.3716 - val_acc: 0.8182\n",
            "Epoch 3/5\n",
            "16012/16012 [==============================] - 12s 752us/step - loss: 0.2712 - acc: 0.8864 - val_loss: 0.2605 - val_acc: 0.8974\n",
            "Epoch 4/5\n",
            "16012/16012 [==============================] - 12s 763us/step - loss: 0.2073 - acc: 0.9171 - val_loss: 0.2250 - val_acc: 0.9174\n",
            "Epoch 5/5\n",
            "16012/16012 [==============================] - 12s 772us/step - loss: 0.1845 - acc: 0.9309 - val_loss: 0.1876 - val_acc: 0.9343\n"
          ],
          "name": "stdout"
        }
      ]
    },
    {
      "cell_type": "code",
      "metadata": {
        "id": "VjGbXOYqqppJ",
        "colab_type": "code",
        "colab": {
          "base_uri": "https://localhost:8080/",
          "height": 590
        },
        "outputId": "b575c16f-611e-487d-ec2e-bf7fb522ce20"
      },
      "source": [
        "print(history.history.keys())\n",
        "import matplotlib.pyplot as plt\n",
        "%matplotlib inline \n",
        "# summarize history for accuracy\n",
        "plt.plot(history.history['acc'])\n",
        "plt.plot(history.history['val_acc'])\n",
        "plt.title('model accuracy')\n",
        "plt.ylabel('accuracy')\n",
        "plt.xlabel('epoch')\n",
        "plt.legend(['train', 'test'], loc='upper left')\n",
        "plt.show()\n",
        "# summarize history for loss\n",
        "plt.plot(history.history['loss'])\n",
        "plt.plot(history.history['val_loss'])\n",
        "plt.title('model loss')\n",
        "plt.ylabel('loss')\n",
        "plt.xlabel('epoch')\n",
        "plt.legend(['train', 'test'], loc='upper left')\n",
        "plt.show()"
      ],
      "execution_count": 44,
      "outputs": [
        {
          "output_type": "stream",
          "text": [
            "dict_keys(['val_loss', 'val_acc', 'loss', 'acc'])\n"
          ],
          "name": "stdout"
        },
        {
          "output_type": "display_data",
          "data": {
            "image/png": "[encoded data removed]",
            "text/plain": [
              "<Figure size 432x288 with 1 Axes>"
            ]
          },
          "metadata": {
            "tags": []
          }
        },
        {
          "output_type": "display_data",
          "data": {
            "image/png": "[encoded data removed]",
            "text/plain": [
              "<Figure size 432x288 with 1 Axes>"
            ]
          },
          "metadata": {
            "tags": []
          }
        }
      ]
    },
    {
      "cell_type": "code",
      "metadata": {
        "id": "vA0iOMcqq1Vj",
        "colab_type": "code",
        "colab": {
          "base_uri": "https://localhost:8080/",
          "height": 51
        },
        "outputId": "b69a10bc-b833-4827-c5ff-6798827649f2"
      },
      "source": [
        "score = model.evaluate([x_test_title, x_test_text], y_test, verbose=0)\n",
        "print('Test loss:', score[0])\n",
        "print('Test accuracy:', score[1])"
      ],
      "execution_count": 45,
      "outputs": [
        {
          "output_type": "stream",
          "text": [
            "Test loss: 0.1341581859824016\n",
            "Test accuracy: 0.9487358849044087\n"
          ],
          "name": "stdout"
        }
      ]
    }
  ]
}