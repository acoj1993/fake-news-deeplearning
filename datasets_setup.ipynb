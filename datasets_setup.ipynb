{
  "nbformat": 4,
  "nbformat_minor": 0,
  "metadata": {
    "colab": {
      "name": "datasets-setup.ipynb",
      "provenance": [],
      "include_colab_link": true
    },
    "kernelspec": {
      "name": "python3",
      "display_name": "Python 3"
    }
  },
  "cells": [
    {
      "cell_type": "markdown",
      "metadata": {
        "id": "view-in-github",
        "colab_type": "text"
      },
      "source": [
        "<a href=\"https://colab.research.google.com/github/acoj1993/fake-news-deeplearning/blob/master/datasets_setup.ipynb\" target=\"_parent\"><img src=\"https://colab.research.google.com/assets/colab-badge.svg\" alt=\"Open In Colab\"/></a>"
      ]
    },
    {
      "cell_type": "markdown",
      "metadata": {
        "id": "T6N9E-fk9H5P",
        "colab_type": "text"
      },
      "source": [
        "# Mount the Google Drive"
      ]
    },
    {
      "cell_type": "code",
      "metadata": {
        "id": "rysVh4H8vyMJ",
        "colab_type": "code",
        "colab": {
          "base_uri": "https://localhost:8080/",
          "height": 122
        },
        "outputId": "6c312a34-c711-4de3-ddc1-77362fdfc2fe"
      },
      "source": [
        "from google.colab import drive\n",
        "drive.mount('/content/drive')\n"
      ],
      "execution_count": 1,
      "outputs": [
        {
          "output_type": "stream",
          "text": [
            "Go to this URL in a browser: https://accounts.google.com/o/oauth2/auth?client_id=947318989803-6bn6qk8qdgf4n4g3pfee6491hc0brc4i.apps.googleusercontent.com&redirect_uri=urn%3aietf%3awg%3aoauth%3a2.0%3aoob&response_type=code&scope=email%20https%3a%2f%2fwww.googleapis.com%2fauth%2fdocs.test%20https%3a%2f%2fwww.googleapis.com%2fauth%2fdrive%20https%3a%2f%2fwww.googleapis.com%2fauth%2fdrive.photos.readonly%20https%3a%2f%2fwww.googleapis.com%2fauth%2fpeopleapi.readonly\n",
            "\n",
            "Enter your authorization code:\n",
            "··········\n",
            "Mounted at /content/drive\n"
          ],
          "name": "stdout"
        }
      ]
    },
    {
      "cell_type": "markdown",
      "metadata": {
        "id": "C8gVaODL9TX7",
        "colab_type": "text"
      },
      "source": [
        "# Import the TI-CNN dataset from the drive."
      ]
    },
    {
      "cell_type": "code",
      "metadata": {
        "id": "Gl0xxx2ZkJr1",
        "colab_type": "code",
        "colab": {
          "base_uri": "https://localhost:8080/",
          "height": 34
        },
        "outputId": "615197fc-d441-49f5-d8b5-8e0157dd99ef"
      },
      "source": [
        "import pandas as pd\n",
        "import io\n",
        "import numpy as np\n",
        "\n",
        "dataset = pd.read_csv('/content/drive/My Drive/all_data.csv')\n",
        "types = np.array(dataset['type'])\n",
        "\n",
        "output = set()\n",
        "for x in types:\n",
        "    output.add(x)\n",
        "print(output)"
      ],
      "execution_count": 2,
      "outputs": [
        {
          "output_type": "stream",
          "text": [
            "{'fake', 'real'}\n"
          ],
          "name": "stdout"
        }
      ]
    },
    {
      "cell_type": "markdown",
      "metadata": {
        "id": "gtOfXFwa9gQW",
        "colab_type": "text"
      },
      "source": [
        "# Download the Fake News Corpus dataset, unzip and test.\n",
        "Note: Due to its abnormal size, this dataset will be used later on."
      ]
    },
    {
      "cell_type": "code",
      "metadata": {
        "id": "w9SyJMXyyOVn",
        "colab_type": "code",
        "colab": {}
      },
      "source": [
        "import requests \n",
        "file_url = \"https://storage.googleapis.com/researchably-fake-news-recognition/news_cleaned_2018_02_13.csv.zip\"\n",
        "\t\n",
        "r = requests.get(file_url, stream = True) \n",
        "\n",
        "with open(\"/content/drive/My Drive/news_cleaned_2018_02_13.csv.zip\", \"wb\") as file: \n",
        "\tfor block in r.iter_content(chunk_size = 1024): \n",
        "\t\tif block: \n",
        "\t\t\tfile.write(block) \n"
      ],
      "execution_count": 0,
      "outputs": []
    },
    {
      "cell_type": "code",
      "metadata": {
        "id": "RyYs5ZHB1IJ4",
        "colab_type": "code",
        "colab": {
          "base_uri": "https://localhost:8080/",
          "height": 51
        },
        "outputId": "bbb55385-0ad7-4302-a1bb-1857c26ea325"
      },
      "source": [
        "!unzip \"/content/drive/My Drive/news_cleaned_2018_02_13.csv.zip\""
      ],
      "execution_count": 13,
      "outputs": [
        {
          "output_type": "stream",
          "text": [
            "Archive:  /content/drive/My Drive/news_cleaned_2018_02_13.csv.zip\n",
            "  inflating: news_cleaned_2018_02_13.csv  "
          ],
          "name": "stdout"
        }
      ]
    }
  ]
}